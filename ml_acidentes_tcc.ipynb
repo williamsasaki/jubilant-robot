{
 "cells": [
  {
   "cell_type": "code",
   "execution_count": 83,
   "metadata": {},
   "outputs": [],
   "source": [
    "#Bibliotecas em uso\n",
    "import pandas as pd\n",
    "import seaborn as sns\n",
    "import matplotlib.pyplot as plt\n",
    "import requests\n",
    "import json\n",
    "import graphviz\n",
    "from datetime import datetime\n",
    "import pandas as pd\n",
    "from sklearn.feature_selection import SelectKBest\n",
    "from sklearn.feature_selection import f_classif\n",
    "from sklearn.ensemble import RandomForestClassifier\n",
    "from sklearn.model_selection import train_test_split, GridSearchCV, cross_val_score, KFold\n",
    "from sklearn.metrics import accuracy_score, confusion_matrix\n",
    "from sklearn.tree import export_graphviz\n",
    "from sklearn.linear_model import LogisticRegression\n",
    "from sklearn.naive_bayes import GaussianNB\n",
    "from sklearn.utils import resample\n",
    "from sklearn.cluster import KMeans\n",
    "from sklearn.metrics import silhouette_score"
   ]
  },
  {
   "attachments": {},
   "cell_type": "markdown",
   "metadata": {},
   "source": [
    "## Importação dos dados\n",
    "Foram utilizadas 3 bases de dados:\n",
    "1. Base com os dados de acidentes nos EUA nos anos de 2016 a 2021\n",
    "2. Base com o número de veículos nos EUA nos anos de 2016 a 2021 por estado\n",
    "3. Base com a relação das siglas e o nomes do estados nos EUA."
   ]
  },
  {
   "cell_type": "code",
   "execution_count": 2,
   "metadata": {},
   "outputs": [],
   "source": [
    "#Dados base dos acidentes\n",
    "df = pd.read_csv('I:/OneDrive - det.ufc.br/Cursos Extras/Pos Ciencia de Dados e Big Data/TCC-PucMinas/Database/US_Accidents_Dec21_updated.csv')"
   ]
  },
  {
   "cell_type": "code",
   "execution_count": 3,
   "metadata": {},
   "outputs": [],
   "source": [
    "#Nomes dos estados\n",
    "df_state = pd.read_csv('I:/OneDrive - det.ufc.br/Cursos Extras/Pos Ciencia de Dados e Big Data/TCC-PucMinas/Database/state_name.csv',sep=';')"
   ]
  },
  {
   "cell_type": "code",
   "execution_count": 4,
   "metadata": {},
   "outputs": [],
   "source": [
    "#Arquivos com os volumes de veículos por estados\n",
    "xls = pd.ExcelFile('I:/OneDrive - det.ufc.br/Cursos Extras/Pos Ciencia de Dados e Big Data/TCC-PucMinas/Database/Vehicle Registration US.xlsx')\n",
    "df_veh2016 = pd.read_excel(xls, sheet_name='2016')\n",
    "df_veh2017 = pd.read_excel(xls, sheet_name='2017')\n",
    "df_veh2018 = pd.read_excel(xls, sheet_name='2018')\n",
    "df_veh2019 = pd.read_excel(xls, sheet_name='2019')\n",
    "df_veh2020 = pd.read_excel(xls, sheet_name='2020')\n",
    "df_veh2021 = pd.read_excel(xls, sheet_name='2021')"
   ]
  },
  {
   "attachments": {},
   "cell_type": "markdown",
   "metadata": {},
   "source": [
    "## Tratamento dos dados\n",
    "Tratamento dos dados para que estejam prontos para a análise"
   ]
  },
  {
   "cell_type": "code",
   "execution_count": 5,
   "metadata": {},
   "outputs": [],
   "source": [
    "#Tratanto para o nome dos estados com nome composto estarem sem espaço\n",
    "df_veh2016['State'] = df_veh2016['State'].str.replace(' ', '')\n",
    "df_veh2017['State'] = df_veh2017['State'].str.replace(' ', '')\n",
    "df_veh2018['State'] = df_veh2018['State'].str.replace(' ', '')\n",
    "df_veh2019['State'] = df_veh2019['State'].str.replace(' ', '')\n",
    "df_veh2020['State'] = df_veh2020['State'].str.replace(' ', '')\n",
    "df_veh2021['State'] = df_veh2021['State'].str.replace(' ', '')\n",
    "#Colocando o ano como uma coluna em cada uma das tabelas\n",
    "df_veh2016['Ano'] = 2016\n",
    "df_veh2017['Ano'] = 2017\n",
    "df_veh2018['Ano'] = 2018\n",
    "df_veh2019['Ano'] = 2019\n",
    "df_veh2020['Ano'] = 2020\n",
    "df_veh2021['Ano'] = 2021\n",
    "#Modificando o tipo dessa coluna\n",
    "df_veh2016['Ano'] = pd.to_datetime(df_veh2016['Ano'], format='%Y')\n",
    "df_veh2017['Ano'] = pd.to_datetime(df_veh2017['Ano'], format='%Y')\n",
    "df_veh2018['Ano'] = pd.to_datetime(df_veh2018['Ano'], format='%Y')\n",
    "df_veh2019['Ano'] = pd.to_datetime(df_veh2019['Ano'], format='%Y')\n",
    "df_veh2020['Ano'] = pd.to_datetime(df_veh2020['Ano'], format='%Y')\n",
    "df_veh2021['Ano'] = pd.to_datetime(df_veh2021['Ano'], format='%Y')\n",
    "#Colocando a sigla do estado em todos\n",
    "df_veh2016 = pd.merge(df_veh2016, df_state, left_on='State', right_on='Nome', how='left')\n",
    "df_veh2017 = pd.merge(df_veh2017, df_state, left_on='State', right_on='Nome', how='left')\n",
    "df_veh2018 = pd.merge(df_veh2018, df_state, left_on='State', right_on='Nome', how='left')\n",
    "df_veh2019 = pd.merge(df_veh2019, df_state, left_on='State', right_on='Nome', how='left')\n",
    "df_veh2020 = pd.merge(df_veh2020, df_state, left_on='State', right_on='Nome', how='left')\n",
    "df_veh2021 = pd.merge(df_veh2021, df_state, left_on='State', right_on='Nome', how='left')\n",
    "#Renomeando o nome da coluna Total\n",
    "df_veh2016 = df_veh2016.rename(columns={'Total 2016': 'Total_veh'})\n",
    "df_veh2017 = df_veh2017.rename(columns={'Total 2017': 'Total_veh'})\n",
    "df_veh2018 = df_veh2018.rename(columns={'Total 2018': 'Total_veh'})\n",
    "df_veh2019 = df_veh2019.rename(columns={'Total 2019': 'Total_veh'})\n",
    "df_veh2020 = df_veh2020.rename(columns={'Total 2020': 'Total_veh'})\n",
    "df_veh2021 = df_veh2021.rename(columns={'Total 2021': 'Total_veh'})\n",
    "#Criando um dataframe único para ser usado no merge com a tabela principal\n",
    "df_veh = pd.concat([df_veh2016,df_veh2017,df_veh2018,df_veh2019,df_veh2020,df_veh2021], axis=0)"
   ]
  },
  {
   "cell_type": "code",
   "execution_count": 6,
   "metadata": {},
   "outputs": [],
   "source": [
    "# Selecionando somente as colunas necessárias\n",
    "df_veh_total = df_veh[['Estado','Ano','Total_veh']]"
   ]
  },
  {
   "cell_type": "code",
   "execution_count": 7,
   "metadata": {},
   "outputs": [],
   "source": [
    "# Transformando as datas para o tipo correto\n",
    "df['Start_Time'] = pd.to_datetime(df['Start_Time'])\n",
    "df['End_Time'] = pd.to_datetime(df['End_Time'])"
   ]
  },
  {
   "cell_type": "code",
   "execution_count": null,
   "metadata": {},
   "outputs": [],
   "source": [
    "#Criando o dataframe principal com os dados de acidentes\n",
    "dados_acidentes = df[['Severity', 'Start_Time', 'End_Time', 'Side', 'City', 'County', 'State', 'Temperature(F)', 'Humidity(%)', \n",
    "                      'Pressure(in)', 'Visibility(mi)', 'Wind_Direction', 'Wind_Speed(mph)', 'Traffic_Signal', 'Sunrise_Sunset']]\n",
    "#Coluna com os o ano de refência do acidente\n",
    "dados_acidentes['Ano'] = dados_acidentes['Start_Time'].dt.to_period('Y').dt.to_timestamp()\n",
    "dados_acidentes['Mes_ano'] = dados_acidentes['Start_Time'].dt.to_period('M').dt.to_timestamp()\n",
    "#Coluna com a duracão do acidente\n",
    "dados_acidentes['Duracao(min)'] = ((dados_acidentes['End_Time'] - dados_acidentes['Start_Time']).dt.total_seconds() / 60).astype(int)"
   ]
  },
  {
   "cell_type": "code",
   "execution_count": 9,
   "metadata": {},
   "outputs": [],
   "source": [
    "#Fazendo merge com a tabela com os dados da quantidade de veículos por estado\n",
    "dados_acidentes_total = pd.merge(dados_acidentes, df_veh_total, left_on=['State', 'Ano'], right_on=['Estado','Ano'], how='left')\n",
    "dados_acidentes_total.drop('Estado', axis=1, inplace=True)"
   ]
  },
  {
   "cell_type": "code",
   "execution_count": 10,
   "metadata": {},
   "outputs": [],
   "source": [
    "#Mudando as colunas necessárias para o tipo categórico ordenado\n",
    "# 1 representa o menos severo\n",
    "dados_acidentes_total['Severity'] = dados_acidentes_total['Severity'].astype(pd.CategoricalDtype(categories=[1, 2, 3, 4], ordered=True))\n",
    "# Categorizando o lado da pista onde ocorreu o acidente\n",
    "dados_acidentes_total['Side'] = dados_acidentes_total['Side'].astype(pd.CategoricalDtype(categories=['R', 'L', 'N']))"
   ]
  },
  {
   "cell_type": "code",
   "execution_count": 11,
   "metadata": {},
   "outputs": [
    {
     "data": {
      "text/plain": [
       "Severity                0\n",
       "Start_Time              0\n",
       "End_Time                0\n",
       "Side                    0\n",
       "City                  137\n",
       "County                  0\n",
       "State                   0\n",
       "Temperature(F)      69274\n",
       "Humidity(%)         73092\n",
       "Pressure(in)        59200\n",
       "Visibility(mi)      70546\n",
       "Wind_Direction      73775\n",
       "Wind_Speed(mph)    157944\n",
       "Traffic_Signal          0\n",
       "Sunrise_Sunset       2867\n",
       "Ano                     0\n",
       "Mes_ano                 0\n",
       "Duracao(min)            0\n",
       "Total_veh               0\n",
       "dtype: int64"
      ]
     },
     "execution_count": 11,
     "metadata": {},
     "output_type": "execute_result"
    }
   ],
   "source": [
    "dados_acidentes_total.isnull().sum()"
   ]
  },
  {
   "cell_type": "code",
   "execution_count": 12,
   "metadata": {},
   "outputs": [
    {
     "name": "stdout",
     "output_type": "stream",
     "text": [
      "A fonte de dados contem linhas: 2,845,342 e colunas: 19\n"
     ]
    }
   ],
   "source": [
    "#Formato do dataframe\n",
    "print('A fonte de dados contem linhas: {:,d} e colunas: {}'.format(dados_acidentes_total.shape[0], dados_acidentes_total.shape[1]))"
   ]
  },
  {
   "cell_type": "code",
   "execution_count": 13,
   "metadata": {},
   "outputs": [],
   "source": [
    "#Tratando os valores nulos\n",
    "# Retirando as linhas com valores nulos de temperatura\n",
    "dados_acidentes_total = dados_acidentes_total.dropna(subset=['Temperature(F)'])\n",
    "# Retirando as linhas com valores nulos de Sunrise_Sunset\n",
    "dados_acidentes_total = dados_acidentes_total.dropna(subset=['Sunrise_Sunset'])\n",
    "# Retirando as linhas com valores nulos de Wind_Speed(mph)\n",
    "dados_acidentes_total = dados_acidentes_total.dropna(subset=['Wind_Speed(mph)'])\n",
    "# Retirando as linhas com valores nulos de Wind_Direction\n",
    "dados_acidentes_total = dados_acidentes_total.dropna(subset=['Wind_Direction'])\n",
    "# Retirando as linhas com valores nulos de Visibility(mi) \n",
    "dados_acidentes_total = dados_acidentes_total.dropna(subset=['Visibility(mi)'])\n",
    "# Retirando as linhas com valores nulos de Pressure(in)\n",
    "dados_acidentes_total = dados_acidentes_total.dropna(subset=['Pressure(in)'])\n",
    "# Retirando as linhas com valores nulos de Humidity(%)\n",
    "dados_acidentes_total = dados_acidentes_total.dropna(subset=['Humidity(%)'])"
   ]
  },
  {
   "cell_type": "code",
   "execution_count": 14,
   "metadata": {},
   "outputs": [
    {
     "name": "stdout",
     "output_type": "stream",
     "text": [
      "A fonte de dados contem linhas: 2,662,384 e colunas: 19\n"
     ]
    }
   ],
   "source": [
    "#Formato do dataframe\n",
    "print('A fonte de dados contem linhas: {:,d} e colunas: {}'.format(dados_acidentes_total.shape[0], dados_acidentes_total.shape[1]))"
   ]
  },
  {
   "cell_type": "code",
   "execution_count": 15,
   "metadata": {},
   "outputs": [
    {
     "data": {
      "text/plain": [
       "Severity           0\n",
       "Start_Time         0\n",
       "End_Time           0\n",
       "Side               0\n",
       "City               0\n",
       "County             0\n",
       "State              0\n",
       "Temperature(F)     0\n",
       "Humidity(%)        0\n",
       "Pressure(in)       0\n",
       "Visibility(mi)     0\n",
       "Wind_Direction     0\n",
       "Wind_Speed(mph)    0\n",
       "Traffic_Signal     0\n",
       "Sunrise_Sunset     0\n",
       "Ano                0\n",
       "Mes_ano            0\n",
       "Duracao(min)       0\n",
       "Total_veh          0\n",
       "dtype: int64"
      ]
     },
     "execution_count": 15,
     "metadata": {},
     "output_type": "execute_result"
    }
   ],
   "source": [
    "dados_acidentes_total.isnull().sum()"
   ]
  },
  {
   "cell_type": "code",
   "execution_count": 16,
   "metadata": {},
   "outputs": [
    {
     "data": {
      "text/html": [
       "<div>\n",
       "<style scoped>\n",
       "    .dataframe tbody tr th:only-of-type {\n",
       "        vertical-align: middle;\n",
       "    }\n",
       "\n",
       "    .dataframe tbody tr th {\n",
       "        vertical-align: top;\n",
       "    }\n",
       "\n",
       "    .dataframe thead th {\n",
       "        text-align: right;\n",
       "    }\n",
       "</style>\n",
       "<table border=\"1\" class=\"dataframe\">\n",
       "  <thead>\n",
       "    <tr style=\"text-align: right;\">\n",
       "      <th></th>\n",
       "      <th>Severity</th>\n",
       "      <th>Start_Time</th>\n",
       "      <th>End_Time</th>\n",
       "      <th>Side</th>\n",
       "      <th>City</th>\n",
       "      <th>County</th>\n",
       "      <th>State</th>\n",
       "      <th>Temperature(F)</th>\n",
       "      <th>Humidity(%)</th>\n",
       "      <th>Pressure(in)</th>\n",
       "      <th>Visibility(mi)</th>\n",
       "      <th>Wind_Direction</th>\n",
       "      <th>Wind_Speed(mph)</th>\n",
       "      <th>Traffic_Signal</th>\n",
       "      <th>Sunrise_Sunset</th>\n",
       "      <th>Ano</th>\n",
       "      <th>Mes_ano</th>\n",
       "      <th>Duracao(min)</th>\n",
       "      <th>Total_veh</th>\n",
       "    </tr>\n",
       "  </thead>\n",
       "  <tbody>\n",
       "    <tr>\n",
       "      <th>0</th>\n",
       "      <td>3</td>\n",
       "      <td>2016-02-08 00:37:08</td>\n",
       "      <td>2016-02-08 06:37:08</td>\n",
       "      <td>R</td>\n",
       "      <td>Dublin</td>\n",
       "      <td>Franklin</td>\n",
       "      <td>OH</td>\n",
       "      <td>42.1</td>\n",
       "      <td>58.0</td>\n",
       "      <td>29.76</td>\n",
       "      <td>10.0</td>\n",
       "      <td>SW</td>\n",
       "      <td>10.4</td>\n",
       "      <td>False</td>\n",
       "      <td>Night</td>\n",
       "      <td>2016-01-01</td>\n",
       "      <td>2016-02-01</td>\n",
       "      <td>360</td>\n",
       "      <td>9979600</td>\n",
       "    </tr>\n",
       "    <tr>\n",
       "      <th>1</th>\n",
       "      <td>3</td>\n",
       "      <td>2016-02-08 07:53:43</td>\n",
       "      <td>2016-02-08 13:53:43</td>\n",
       "      <td>R</td>\n",
       "      <td>Cincinnati</td>\n",
       "      <td>Hamilton</td>\n",
       "      <td>OH</td>\n",
       "      <td>37.0</td>\n",
       "      <td>93.0</td>\n",
       "      <td>29.69</td>\n",
       "      <td>10.0</td>\n",
       "      <td>WSW</td>\n",
       "      <td>10.4</td>\n",
       "      <td>False</td>\n",
       "      <td>Day</td>\n",
       "      <td>2016-01-01</td>\n",
       "      <td>2016-02-01</td>\n",
       "      <td>360</td>\n",
       "      <td>9979600</td>\n",
       "    </tr>\n",
       "    <tr>\n",
       "      <th>2</th>\n",
       "      <td>2</td>\n",
       "      <td>2016-02-08 08:16:57</td>\n",
       "      <td>2016-02-08 14:16:57</td>\n",
       "      <td>R</td>\n",
       "      <td>Williamsburg</td>\n",
       "      <td>Clermont</td>\n",
       "      <td>OH</td>\n",
       "      <td>35.6</td>\n",
       "      <td>100.0</td>\n",
       "      <td>29.66</td>\n",
       "      <td>10.0</td>\n",
       "      <td>WSW</td>\n",
       "      <td>8.1</td>\n",
       "      <td>True</td>\n",
       "      <td>Day</td>\n",
       "      <td>2016-01-01</td>\n",
       "      <td>2016-02-01</td>\n",
       "      <td>360</td>\n",
       "      <td>9979600</td>\n",
       "    </tr>\n",
       "    <tr>\n",
       "      <th>3</th>\n",
       "      <td>2</td>\n",
       "      <td>2016-02-08 08:15:41</td>\n",
       "      <td>2016-02-08 14:15:41</td>\n",
       "      <td>R</td>\n",
       "      <td>Dayton</td>\n",
       "      <td>Montgomery</td>\n",
       "      <td>OH</td>\n",
       "      <td>33.8</td>\n",
       "      <td>100.0</td>\n",
       "      <td>29.63</td>\n",
       "      <td>3.0</td>\n",
       "      <td>SW</td>\n",
       "      <td>2.3</td>\n",
       "      <td>False</td>\n",
       "      <td>Day</td>\n",
       "      <td>2016-01-01</td>\n",
       "      <td>2016-02-01</td>\n",
       "      <td>360</td>\n",
       "      <td>9979600</td>\n",
       "    </tr>\n",
       "    <tr>\n",
       "      <th>4</th>\n",
       "      <td>2</td>\n",
       "      <td>2016-02-08 11:51:46</td>\n",
       "      <td>2016-02-08 17:51:46</td>\n",
       "      <td>R</td>\n",
       "      <td>Cleveland</td>\n",
       "      <td>Cuyahoga</td>\n",
       "      <td>OH</td>\n",
       "      <td>33.1</td>\n",
       "      <td>92.0</td>\n",
       "      <td>29.63</td>\n",
       "      <td>0.5</td>\n",
       "      <td>SW</td>\n",
       "      <td>3.5</td>\n",
       "      <td>False</td>\n",
       "      <td>Day</td>\n",
       "      <td>2016-01-01</td>\n",
       "      <td>2016-02-01</td>\n",
       "      <td>360</td>\n",
       "      <td>9979600</td>\n",
       "    </tr>\n",
       "  </tbody>\n",
       "</table>\n",
       "</div>"
      ],
      "text/plain": [
       "  Severity          Start_Time            End_Time Side          City  \\\n",
       "0        3 2016-02-08 00:37:08 2016-02-08 06:37:08    R        Dublin   \n",
       "1        3 2016-02-08 07:53:43 2016-02-08 13:53:43    R    Cincinnati   \n",
       "2        2 2016-02-08 08:16:57 2016-02-08 14:16:57    R  Williamsburg   \n",
       "3        2 2016-02-08 08:15:41 2016-02-08 14:15:41    R        Dayton   \n",
       "4        2 2016-02-08 11:51:46 2016-02-08 17:51:46    R     Cleveland   \n",
       "\n",
       "       County State  Temperature(F)  Humidity(%)  Pressure(in)  \\\n",
       "0    Franklin    OH            42.1         58.0         29.76   \n",
       "1    Hamilton    OH            37.0         93.0         29.69   \n",
       "2    Clermont    OH            35.6        100.0         29.66   \n",
       "3  Montgomery    OH            33.8        100.0         29.63   \n",
       "4    Cuyahoga    OH            33.1         92.0         29.63   \n",
       "\n",
       "   Visibility(mi) Wind_Direction  Wind_Speed(mph)  Traffic_Signal  \\\n",
       "0            10.0             SW             10.4           False   \n",
       "1            10.0            WSW             10.4           False   \n",
       "2            10.0            WSW              8.1            True   \n",
       "3             3.0             SW              2.3           False   \n",
       "4             0.5             SW              3.5           False   \n",
       "\n",
       "  Sunrise_Sunset        Ano    Mes_ano  Duracao(min)  Total_veh  \n",
       "0          Night 2016-01-01 2016-02-01           360    9979600  \n",
       "1            Day 2016-01-01 2016-02-01           360    9979600  \n",
       "2            Day 2016-01-01 2016-02-01           360    9979600  \n",
       "3            Day 2016-01-01 2016-02-01           360    9979600  \n",
       "4            Day 2016-01-01 2016-02-01           360    9979600  "
      ]
     },
     "execution_count": 16,
     "metadata": {},
     "output_type": "execute_result"
    }
   ],
   "source": [
    "#Resetando o index do dataframe\n",
    "dados_acidentes_total = dados_acidentes_total.reset_index(drop=True)\n",
    "dados_acidentes_total.head(5)"
   ]
  },
  {
   "cell_type": "code",
   "execution_count": 17,
   "metadata": {},
   "outputs": [
    {
     "data": {
      "text/html": [
       "<div>\n",
       "<style scoped>\n",
       "    .dataframe tbody tr th:only-of-type {\n",
       "        vertical-align: middle;\n",
       "    }\n",
       "\n",
       "    .dataframe tbody tr th {\n",
       "        vertical-align: top;\n",
       "    }\n",
       "\n",
       "    .dataframe thead th {\n",
       "        text-align: right;\n",
       "    }\n",
       "</style>\n",
       "<table border=\"1\" class=\"dataframe\">\n",
       "  <thead>\n",
       "    <tr style=\"text-align: right;\">\n",
       "      <th></th>\n",
       "      <th>Severity</th>\n",
       "      <th>Start_Time</th>\n",
       "      <th>End_Time</th>\n",
       "      <th>Side</th>\n",
       "      <th>City</th>\n",
       "      <th>County</th>\n",
       "      <th>State</th>\n",
       "      <th>Temperature(F)</th>\n",
       "      <th>Humidity(%)</th>\n",
       "      <th>Pressure(in)</th>\n",
       "      <th>Visibility(mi)</th>\n",
       "      <th>Wind_Direction</th>\n",
       "      <th>Wind_Speed(mph)</th>\n",
       "      <th>Traffic_Signal</th>\n",
       "      <th>Sunrise_Sunset</th>\n",
       "      <th>Ano</th>\n",
       "      <th>Mes_ano</th>\n",
       "      <th>Duracao(min)</th>\n",
       "      <th>Total_veh</th>\n",
       "    </tr>\n",
       "  </thead>\n",
       "  <tbody>\n",
       "    <tr>\n",
       "      <th>0</th>\n",
       "      <td>3</td>\n",
       "      <td>2016-02-08 00:37:08</td>\n",
       "      <td>2016-02-08 06:37:08</td>\n",
       "      <td>R</td>\n",
       "      <td>Dublin</td>\n",
       "      <td>Franklin</td>\n",
       "      <td>OH</td>\n",
       "      <td>42.1</td>\n",
       "      <td>58.0</td>\n",
       "      <td>29.76</td>\n",
       "      <td>10.0</td>\n",
       "      <td>SW</td>\n",
       "      <td>10.4</td>\n",
       "      <td>False</td>\n",
       "      <td>Night</td>\n",
       "      <td>2016-01-01</td>\n",
       "      <td>2016-02-01</td>\n",
       "      <td>360</td>\n",
       "      <td>9979600</td>\n",
       "    </tr>\n",
       "    <tr>\n",
       "      <th>1</th>\n",
       "      <td>3</td>\n",
       "      <td>2016-02-08 07:53:43</td>\n",
       "      <td>2016-02-08 13:53:43</td>\n",
       "      <td>R</td>\n",
       "      <td>Cincinnati</td>\n",
       "      <td>Hamilton</td>\n",
       "      <td>OH</td>\n",
       "      <td>37.0</td>\n",
       "      <td>93.0</td>\n",
       "      <td>29.69</td>\n",
       "      <td>10.0</td>\n",
       "      <td>WSW</td>\n",
       "      <td>10.4</td>\n",
       "      <td>False</td>\n",
       "      <td>Day</td>\n",
       "      <td>2016-01-01</td>\n",
       "      <td>2016-02-01</td>\n",
       "      <td>360</td>\n",
       "      <td>9979600</td>\n",
       "    </tr>\n",
       "    <tr>\n",
       "      <th>2</th>\n",
       "      <td>2</td>\n",
       "      <td>2016-02-08 08:16:57</td>\n",
       "      <td>2016-02-08 14:16:57</td>\n",
       "      <td>R</td>\n",
       "      <td>Williamsburg</td>\n",
       "      <td>Clermont</td>\n",
       "      <td>OH</td>\n",
       "      <td>35.6</td>\n",
       "      <td>100.0</td>\n",
       "      <td>29.66</td>\n",
       "      <td>10.0</td>\n",
       "      <td>WSW</td>\n",
       "      <td>8.1</td>\n",
       "      <td>True</td>\n",
       "      <td>Day</td>\n",
       "      <td>2016-01-01</td>\n",
       "      <td>2016-02-01</td>\n",
       "      <td>360</td>\n",
       "      <td>9979600</td>\n",
       "    </tr>\n",
       "    <tr>\n",
       "      <th>3</th>\n",
       "      <td>2</td>\n",
       "      <td>2016-02-08 08:15:41</td>\n",
       "      <td>2016-02-08 14:15:41</td>\n",
       "      <td>R</td>\n",
       "      <td>Dayton</td>\n",
       "      <td>Montgomery</td>\n",
       "      <td>OH</td>\n",
       "      <td>33.8</td>\n",
       "      <td>100.0</td>\n",
       "      <td>29.63</td>\n",
       "      <td>3.0</td>\n",
       "      <td>SW</td>\n",
       "      <td>2.3</td>\n",
       "      <td>False</td>\n",
       "      <td>Day</td>\n",
       "      <td>2016-01-01</td>\n",
       "      <td>2016-02-01</td>\n",
       "      <td>360</td>\n",
       "      <td>9979600</td>\n",
       "    </tr>\n",
       "    <tr>\n",
       "      <th>4</th>\n",
       "      <td>2</td>\n",
       "      <td>2016-02-08 11:51:46</td>\n",
       "      <td>2016-02-08 17:51:46</td>\n",
       "      <td>R</td>\n",
       "      <td>Cleveland</td>\n",
       "      <td>Cuyahoga</td>\n",
       "      <td>OH</td>\n",
       "      <td>33.1</td>\n",
       "      <td>92.0</td>\n",
       "      <td>29.63</td>\n",
       "      <td>0.5</td>\n",
       "      <td>SW</td>\n",
       "      <td>3.5</td>\n",
       "      <td>False</td>\n",
       "      <td>Day</td>\n",
       "      <td>2016-01-01</td>\n",
       "      <td>2016-02-01</td>\n",
       "      <td>360</td>\n",
       "      <td>9979600</td>\n",
       "    </tr>\n",
       "    <tr>\n",
       "      <th>...</th>\n",
       "      <td>...</td>\n",
       "      <td>...</td>\n",
       "      <td>...</td>\n",
       "      <td>...</td>\n",
       "      <td>...</td>\n",
       "      <td>...</td>\n",
       "      <td>...</td>\n",
       "      <td>...</td>\n",
       "      <td>...</td>\n",
       "      <td>...</td>\n",
       "      <td>...</td>\n",
       "      <td>...</td>\n",
       "      <td>...</td>\n",
       "      <td>...</td>\n",
       "      <td>...</td>\n",
       "      <td>...</td>\n",
       "      <td>...</td>\n",
       "      <td>...</td>\n",
       "      <td>...</td>\n",
       "    </tr>\n",
       "    <tr>\n",
       "      <th>2662379</th>\n",
       "      <td>2</td>\n",
       "      <td>2019-08-23 18:03:25</td>\n",
       "      <td>2019-08-23 18:32:01</td>\n",
       "      <td>R</td>\n",
       "      <td>Riverside</td>\n",
       "      <td>Riverside</td>\n",
       "      <td>CA</td>\n",
       "      <td>86.0</td>\n",
       "      <td>40.0</td>\n",
       "      <td>28.92</td>\n",
       "      <td>10.0</td>\n",
       "      <td>W</td>\n",
       "      <td>13.0</td>\n",
       "      <td>False</td>\n",
       "      <td>Day</td>\n",
       "      <td>2019-01-01</td>\n",
       "      <td>2019-08-01</td>\n",
       "      <td>28</td>\n",
       "      <td>33535000</td>\n",
       "    </tr>\n",
       "    <tr>\n",
       "      <th>2662380</th>\n",
       "      <td>2</td>\n",
       "      <td>2019-08-23 19:11:30</td>\n",
       "      <td>2019-08-23 19:38:23</td>\n",
       "      <td>R</td>\n",
       "      <td>San Diego</td>\n",
       "      <td>San Diego</td>\n",
       "      <td>CA</td>\n",
       "      <td>70.0</td>\n",
       "      <td>73.0</td>\n",
       "      <td>29.39</td>\n",
       "      <td>10.0</td>\n",
       "      <td>SW</td>\n",
       "      <td>6.0</td>\n",
       "      <td>False</td>\n",
       "      <td>Day</td>\n",
       "      <td>2019-01-01</td>\n",
       "      <td>2019-08-01</td>\n",
       "      <td>26</td>\n",
       "      <td>33535000</td>\n",
       "    </tr>\n",
       "    <tr>\n",
       "      <th>2662381</th>\n",
       "      <td>2</td>\n",
       "      <td>2019-08-23 19:00:21</td>\n",
       "      <td>2019-08-23 19:28:49</td>\n",
       "      <td>R</td>\n",
       "      <td>Orange</td>\n",
       "      <td>Orange</td>\n",
       "      <td>CA</td>\n",
       "      <td>73.0</td>\n",
       "      <td>64.0</td>\n",
       "      <td>29.74</td>\n",
       "      <td>10.0</td>\n",
       "      <td>SSW</td>\n",
       "      <td>10.0</td>\n",
       "      <td>False</td>\n",
       "      <td>Day</td>\n",
       "      <td>2019-01-01</td>\n",
       "      <td>2019-08-01</td>\n",
       "      <td>28</td>\n",
       "      <td>33535000</td>\n",
       "    </tr>\n",
       "    <tr>\n",
       "      <th>2662382</th>\n",
       "      <td>2</td>\n",
       "      <td>2019-08-23 19:00:21</td>\n",
       "      <td>2019-08-23 19:29:42</td>\n",
       "      <td>R</td>\n",
       "      <td>Culver City</td>\n",
       "      <td>Los Angeles</td>\n",
       "      <td>CA</td>\n",
       "      <td>71.0</td>\n",
       "      <td>81.0</td>\n",
       "      <td>29.62</td>\n",
       "      <td>10.0</td>\n",
       "      <td>SW</td>\n",
       "      <td>8.0</td>\n",
       "      <td>False</td>\n",
       "      <td>Day</td>\n",
       "      <td>2019-01-01</td>\n",
       "      <td>2019-08-01</td>\n",
       "      <td>29</td>\n",
       "      <td>33535000</td>\n",
       "    </tr>\n",
       "    <tr>\n",
       "      <th>2662383</th>\n",
       "      <td>2</td>\n",
       "      <td>2019-08-23 18:52:06</td>\n",
       "      <td>2019-08-23 19:21:31</td>\n",
       "      <td>R</td>\n",
       "      <td>Highland</td>\n",
       "      <td>San Bernardino</td>\n",
       "      <td>CA</td>\n",
       "      <td>79.0</td>\n",
       "      <td>47.0</td>\n",
       "      <td>28.63</td>\n",
       "      <td>7.0</td>\n",
       "      <td>SW</td>\n",
       "      <td>7.0</td>\n",
       "      <td>False</td>\n",
       "      <td>Day</td>\n",
       "      <td>2019-01-01</td>\n",
       "      <td>2019-08-01</td>\n",
       "      <td>29</td>\n",
       "      <td>33535000</td>\n",
       "    </tr>\n",
       "  </tbody>\n",
       "</table>\n",
       "<p>2662384 rows × 19 columns</p>\n",
       "</div>"
      ],
      "text/plain": [
       "        Severity          Start_Time            End_Time Side          City  \\\n",
       "0              3 2016-02-08 00:37:08 2016-02-08 06:37:08    R        Dublin   \n",
       "1              3 2016-02-08 07:53:43 2016-02-08 13:53:43    R    Cincinnati   \n",
       "2              2 2016-02-08 08:16:57 2016-02-08 14:16:57    R  Williamsburg   \n",
       "3              2 2016-02-08 08:15:41 2016-02-08 14:15:41    R        Dayton   \n",
       "4              2 2016-02-08 11:51:46 2016-02-08 17:51:46    R     Cleveland   \n",
       "...          ...                 ...                 ...  ...           ...   \n",
       "2662379        2 2019-08-23 18:03:25 2019-08-23 18:32:01    R     Riverside   \n",
       "2662380        2 2019-08-23 19:11:30 2019-08-23 19:38:23    R     San Diego   \n",
       "2662381        2 2019-08-23 19:00:21 2019-08-23 19:28:49    R        Orange   \n",
       "2662382        2 2019-08-23 19:00:21 2019-08-23 19:29:42    R   Culver City   \n",
       "2662383        2 2019-08-23 18:52:06 2019-08-23 19:21:31    R      Highland   \n",
       "\n",
       "                 County State  Temperature(F)  Humidity(%)  Pressure(in)  \\\n",
       "0              Franklin    OH            42.1         58.0         29.76   \n",
       "1              Hamilton    OH            37.0         93.0         29.69   \n",
       "2              Clermont    OH            35.6        100.0         29.66   \n",
       "3            Montgomery    OH            33.8        100.0         29.63   \n",
       "4              Cuyahoga    OH            33.1         92.0         29.63   \n",
       "...                 ...   ...             ...          ...           ...   \n",
       "2662379       Riverside    CA            86.0         40.0         28.92   \n",
       "2662380       San Diego    CA            70.0         73.0         29.39   \n",
       "2662381          Orange    CA            73.0         64.0         29.74   \n",
       "2662382     Los Angeles    CA            71.0         81.0         29.62   \n",
       "2662383  San Bernardino    CA            79.0         47.0         28.63   \n",
       "\n",
       "         Visibility(mi) Wind_Direction  Wind_Speed(mph)  Traffic_Signal  \\\n",
       "0                  10.0             SW             10.4           False   \n",
       "1                  10.0            WSW             10.4           False   \n",
       "2                  10.0            WSW              8.1            True   \n",
       "3                   3.0             SW              2.3           False   \n",
       "4                   0.5             SW              3.5           False   \n",
       "...                 ...            ...              ...             ...   \n",
       "2662379            10.0              W             13.0           False   \n",
       "2662380            10.0             SW              6.0           False   \n",
       "2662381            10.0            SSW             10.0           False   \n",
       "2662382            10.0             SW              8.0           False   \n",
       "2662383             7.0             SW              7.0           False   \n",
       "\n",
       "        Sunrise_Sunset        Ano    Mes_ano  Duracao(min)  Total_veh  \n",
       "0                Night 2016-01-01 2016-02-01           360    9979600  \n",
       "1                  Day 2016-01-01 2016-02-01           360    9979600  \n",
       "2                  Day 2016-01-01 2016-02-01           360    9979600  \n",
       "3                  Day 2016-01-01 2016-02-01           360    9979600  \n",
       "4                  Day 2016-01-01 2016-02-01           360    9979600  \n",
       "...                ...        ...        ...           ...        ...  \n",
       "2662379            Day 2019-01-01 2019-08-01            28   33535000  \n",
       "2662380            Day 2019-01-01 2019-08-01            26   33535000  \n",
       "2662381            Day 2019-01-01 2019-08-01            28   33535000  \n",
       "2662382            Day 2019-01-01 2019-08-01            29   33535000  \n",
       "2662383            Day 2019-01-01 2019-08-01            29   33535000  \n",
       "\n",
       "[2662384 rows x 19 columns]"
      ]
     },
     "execution_count": 17,
     "metadata": {},
     "output_type": "execute_result"
    }
   ],
   "source": [
    "dados_acidentes_total"
   ]
  },
  {
   "cell_type": "code",
   "execution_count": 18,
   "metadata": {},
   "outputs": [
    {
     "data": {
      "text/plain": [
       "2    2388268\n",
       "3     136151\n",
       "4     112429\n",
       "1      25536\n",
       "Name: Severity, dtype: int64"
      ]
     },
     "execution_count": 18,
     "metadata": {},
     "output_type": "execute_result"
    }
   ],
   "source": [
    "dados_acidentes_total['Severity'].value_counts()"
   ]
  },
  {
   "cell_type": "code",
   "execution_count": 19,
   "metadata": {},
   "outputs": [],
   "source": [
    "pd.set_option(\"display.max_columns\", 100)\n",
    "pd.set_option('display.max_rows', 120)"
   ]
  },
  {
   "attachments": {},
   "cell_type": "markdown",
   "metadata": {},
   "source": [
    "## Limpeza de dados (Data cleaning)\n"
   ]
  },
  {
   "cell_type": "code",
   "execution_count": null,
   "metadata": {},
   "outputs": [],
   "source": []
  },
  {
   "attachments": {},
   "cell_type": "markdown",
   "metadata": {},
   "source": [
    "## Exploração de dados\n",
    "Exploração inicial dos dados de acidentes nos EUA"
   ]
  },
  {
   "cell_type": "code",
   "execution_count": 20,
   "metadata": {},
   "outputs": [
    {
     "data": {
      "text/html": [
       "<div>\n",
       "<style scoped>\n",
       "    .dataframe tbody tr th:only-of-type {\n",
       "        vertical-align: middle;\n",
       "    }\n",
       "\n",
       "    .dataframe tbody tr th {\n",
       "        vertical-align: top;\n",
       "    }\n",
       "\n",
       "    .dataframe thead th {\n",
       "        text-align: right;\n",
       "    }\n",
       "</style>\n",
       "<table border=\"1\" class=\"dataframe\">\n",
       "  <thead>\n",
       "    <tr style=\"text-align: right;\">\n",
       "      <th></th>\n",
       "      <th>Severity</th>\n",
       "      <th>Start_Time</th>\n",
       "      <th>End_Time</th>\n",
       "      <th>Side</th>\n",
       "      <th>City</th>\n",
       "      <th>County</th>\n",
       "      <th>State</th>\n",
       "      <th>Temperature(F)</th>\n",
       "      <th>Humidity(%)</th>\n",
       "      <th>Pressure(in)</th>\n",
       "      <th>Visibility(mi)</th>\n",
       "      <th>Wind_Direction</th>\n",
       "      <th>Wind_Speed(mph)</th>\n",
       "      <th>Traffic_Signal</th>\n",
       "      <th>Sunrise_Sunset</th>\n",
       "      <th>Ano</th>\n",
       "      <th>Mes_ano</th>\n",
       "      <th>Duracao(min)</th>\n",
       "      <th>Total_veh</th>\n",
       "    </tr>\n",
       "  </thead>\n",
       "  <tbody>\n",
       "    <tr>\n",
       "      <th>0</th>\n",
       "      <td>3</td>\n",
       "      <td>2016-02-08 00:37:08</td>\n",
       "      <td>2016-02-08 06:37:08</td>\n",
       "      <td>R</td>\n",
       "      <td>Dublin</td>\n",
       "      <td>Franklin</td>\n",
       "      <td>OH</td>\n",
       "      <td>42.1</td>\n",
       "      <td>58.0</td>\n",
       "      <td>29.76</td>\n",
       "      <td>10.0</td>\n",
       "      <td>SW</td>\n",
       "      <td>10.4</td>\n",
       "      <td>False</td>\n",
       "      <td>Night</td>\n",
       "      <td>2016-01-01</td>\n",
       "      <td>2016-02-01</td>\n",
       "      <td>360</td>\n",
       "      <td>9979600</td>\n",
       "    </tr>\n",
       "    <tr>\n",
       "      <th>1</th>\n",
       "      <td>3</td>\n",
       "      <td>2016-02-08 07:53:43</td>\n",
       "      <td>2016-02-08 13:53:43</td>\n",
       "      <td>R</td>\n",
       "      <td>Cincinnati</td>\n",
       "      <td>Hamilton</td>\n",
       "      <td>OH</td>\n",
       "      <td>37.0</td>\n",
       "      <td>93.0</td>\n",
       "      <td>29.69</td>\n",
       "      <td>10.0</td>\n",
       "      <td>WSW</td>\n",
       "      <td>10.4</td>\n",
       "      <td>False</td>\n",
       "      <td>Day</td>\n",
       "      <td>2016-01-01</td>\n",
       "      <td>2016-02-01</td>\n",
       "      <td>360</td>\n",
       "      <td>9979600</td>\n",
       "    </tr>\n",
       "    <tr>\n",
       "      <th>2</th>\n",
       "      <td>2</td>\n",
       "      <td>2016-02-08 08:16:57</td>\n",
       "      <td>2016-02-08 14:16:57</td>\n",
       "      <td>R</td>\n",
       "      <td>Williamsburg</td>\n",
       "      <td>Clermont</td>\n",
       "      <td>OH</td>\n",
       "      <td>35.6</td>\n",
       "      <td>100.0</td>\n",
       "      <td>29.66</td>\n",
       "      <td>10.0</td>\n",
       "      <td>WSW</td>\n",
       "      <td>8.1</td>\n",
       "      <td>True</td>\n",
       "      <td>Day</td>\n",
       "      <td>2016-01-01</td>\n",
       "      <td>2016-02-01</td>\n",
       "      <td>360</td>\n",
       "      <td>9979600</td>\n",
       "    </tr>\n",
       "    <tr>\n",
       "      <th>3</th>\n",
       "      <td>2</td>\n",
       "      <td>2016-02-08 08:15:41</td>\n",
       "      <td>2016-02-08 14:15:41</td>\n",
       "      <td>R</td>\n",
       "      <td>Dayton</td>\n",
       "      <td>Montgomery</td>\n",
       "      <td>OH</td>\n",
       "      <td>33.8</td>\n",
       "      <td>100.0</td>\n",
       "      <td>29.63</td>\n",
       "      <td>3.0</td>\n",
       "      <td>SW</td>\n",
       "      <td>2.3</td>\n",
       "      <td>False</td>\n",
       "      <td>Day</td>\n",
       "      <td>2016-01-01</td>\n",
       "      <td>2016-02-01</td>\n",
       "      <td>360</td>\n",
       "      <td>9979600</td>\n",
       "    </tr>\n",
       "    <tr>\n",
       "      <th>4</th>\n",
       "      <td>2</td>\n",
       "      <td>2016-02-08 11:51:46</td>\n",
       "      <td>2016-02-08 17:51:46</td>\n",
       "      <td>R</td>\n",
       "      <td>Cleveland</td>\n",
       "      <td>Cuyahoga</td>\n",
       "      <td>OH</td>\n",
       "      <td>33.1</td>\n",
       "      <td>92.0</td>\n",
       "      <td>29.63</td>\n",
       "      <td>0.5</td>\n",
       "      <td>SW</td>\n",
       "      <td>3.5</td>\n",
       "      <td>False</td>\n",
       "      <td>Day</td>\n",
       "      <td>2016-01-01</td>\n",
       "      <td>2016-02-01</td>\n",
       "      <td>360</td>\n",
       "      <td>9979600</td>\n",
       "    </tr>\n",
       "  </tbody>\n",
       "</table>\n",
       "</div>"
      ],
      "text/plain": [
       "  Severity          Start_Time            End_Time Side          City  \\\n",
       "0        3 2016-02-08 00:37:08 2016-02-08 06:37:08    R        Dublin   \n",
       "1        3 2016-02-08 07:53:43 2016-02-08 13:53:43    R    Cincinnati   \n",
       "2        2 2016-02-08 08:16:57 2016-02-08 14:16:57    R  Williamsburg   \n",
       "3        2 2016-02-08 08:15:41 2016-02-08 14:15:41    R        Dayton   \n",
       "4        2 2016-02-08 11:51:46 2016-02-08 17:51:46    R     Cleveland   \n",
       "\n",
       "       County State  Temperature(F)  Humidity(%)  Pressure(in)  \\\n",
       "0    Franklin    OH            42.1         58.0         29.76   \n",
       "1    Hamilton    OH            37.0         93.0         29.69   \n",
       "2    Clermont    OH            35.6        100.0         29.66   \n",
       "3  Montgomery    OH            33.8        100.0         29.63   \n",
       "4    Cuyahoga    OH            33.1         92.0         29.63   \n",
       "\n",
       "   Visibility(mi) Wind_Direction  Wind_Speed(mph)  Traffic_Signal  \\\n",
       "0            10.0             SW             10.4           False   \n",
       "1            10.0            WSW             10.4           False   \n",
       "2            10.0            WSW              8.1            True   \n",
       "3             3.0             SW              2.3           False   \n",
       "4             0.5             SW              3.5           False   \n",
       "\n",
       "  Sunrise_Sunset        Ano    Mes_ano  Duracao(min)  Total_veh  \n",
       "0          Night 2016-01-01 2016-02-01           360    9979600  \n",
       "1            Day 2016-01-01 2016-02-01           360    9979600  \n",
       "2            Day 2016-01-01 2016-02-01           360    9979600  \n",
       "3            Day 2016-01-01 2016-02-01           360    9979600  \n",
       "4            Day 2016-01-01 2016-02-01           360    9979600  "
      ]
     },
     "execution_count": 20,
     "metadata": {},
     "output_type": "execute_result"
    }
   ],
   "source": [
    "dados_acidentes_total.head()"
   ]
  },
  {
   "cell_type": "code",
   "execution_count": 21,
   "metadata": {},
   "outputs": [
    {
     "name": "stdout",
     "output_type": "stream",
     "text": [
      "A fonte de dados contem linhas: 2,662,384 e colunas: 19\n"
     ]
    }
   ],
   "source": [
    "#Formato do dataframe\n",
    "print('A fonte de dados contem linhas: {:,d} e colunas: {}'.format(dados_acidentes_total.shape[0], dados_acidentes_total.shape[1]))"
   ]
  },
  {
   "cell_type": "code",
   "execution_count": 22,
   "metadata": {},
   "outputs": [
    {
     "name": "stdout",
     "output_type": "stream",
     "text": [
      "Dados sobre: Severity\n",
      "Dados sobre: Start_Time\n",
      "Dados sobre: End_Time\n",
      "Dados sobre: Side\n",
      "Dados sobre: City\n",
      "Dados sobre: County\n",
      "Dados sobre: State\n",
      "Dados sobre: Temperature(F)\n",
      "Dados sobre: Humidity(%)\n",
      "Dados sobre: Pressure(in)\n",
      "Dados sobre: Visibility(mi)\n",
      "Dados sobre: Wind_Direction\n",
      "Dados sobre: Wind_Speed(mph)\n",
      "Dados sobre: Traffic_Signal\n",
      "Dados sobre: Sunrise_Sunset\n",
      "Dados sobre: Ano\n",
      "Dados sobre: Mes_ano\n",
      "Dados sobre: Duracao(min)\n",
      "Dados sobre: Total_veh\n"
     ]
    }
   ],
   "source": [
    "#Colunas de dados disponíveis\n",
    "df.columns\n",
    "for n in range(len(dados_acidentes_total.columns)):\n",
    "    print('Dados sobre: {}'.format(dados_acidentes_total.columns[n]))"
   ]
  },
  {
   "cell_type": "code",
   "execution_count": 23,
   "metadata": {},
   "outputs": [
    {
     "name": "stdout",
     "output_type": "stream",
     "text": [
      "<class 'pandas.core.frame.DataFrame'>\n",
      "RangeIndex: 2662384 entries, 0 to 2662383\n",
      "Data columns (total 19 columns):\n",
      " #   Column           Dtype         \n",
      "---  ------           -----         \n",
      " 0   Severity         category      \n",
      " 1   Start_Time       datetime64[ns]\n",
      " 2   End_Time         datetime64[ns]\n",
      " 3   Side             category      \n",
      " 4   City             object        \n",
      " 5   County           object        \n",
      " 6   State            object        \n",
      " 7   Temperature(F)   float64       \n",
      " 8   Humidity(%)      float64       \n",
      " 9   Pressure(in)     float64       \n",
      " 10  Visibility(mi)   float64       \n",
      " 11  Wind_Direction   object        \n",
      " 12  Wind_Speed(mph)  float64       \n",
      " 13  Traffic_Signal   bool          \n",
      " 14  Sunrise_Sunset   object        \n",
      " 15  Ano              datetime64[ns]\n",
      " 16  Mes_ano          datetime64[ns]\n",
      " 17  Duracao(min)     int32         \n",
      " 18  Total_veh        int64         \n",
      "dtypes: bool(1), category(2), datetime64[ns](4), float64(5), int32(1), int64(1), object(5)\n",
      "memory usage: 322.5+ MB\n"
     ]
    }
   ],
   "source": [
    "#Tipos de dados\n",
    "dados_acidentes_total.info()"
   ]
  },
  {
   "cell_type": "code",
   "execution_count": 24,
   "metadata": {},
   "outputs": [
    {
     "name": "stdout",
     "output_type": "stream",
     "text": [
      "2    2388268\n",
      "3     136151\n",
      "4     112429\n",
      "1      25536\n",
      "Name: Severity, dtype: int64\n",
      "=================================================\n",
      "count     2662384\n",
      "unique          4\n",
      "top             2\n",
      "freq      2388268\n",
      "Name: Severity, dtype: int64\n"
     ]
    }
   ],
   "source": [
    "#Verificando as severidades dos acidentes\n",
    "print(dados_acidentes_total['Severity'].value_counts())\n",
    "print('=================================================')\n",
    "print(dados_acidentes_total['Severity'].describe())"
   ]
  },
  {
   "cell_type": "code",
   "execution_count": 25,
   "metadata": {},
   "outputs": [
    {
     "data": {
      "image/png": "[encoded data removed]",
      "text/plain": [
       "<Figure size 640x480 with 1 Axes>"
      ]
     },
     "metadata": {},
     "output_type": "display_data"
    }
   ],
   "source": [
    "# Proporção da severidade dos acidentes\n",
    "order = [1, 2, 3, 4]\n",
    "ax = sns.countplot(x='Severity', order=order, data=dados_acidentes_total)\n",
    "plt.title('Distribuição da Severidade')\n",
    "plt.ylabel('Porcentagem')\n",
    "plt.xlabel('Severidade')\n",
    "\n",
    "total = float(len(dados_acidentes_total))\n",
    "for p in ax.patches:\n",
    "    height = p.get_height()\n",
    "    ax.text(p.get_x() + p.get_width() / 2., height + 3, '{:.1f}%'.format((height / total) * 100), ha='center')\n",
    "\n",
    "plt.show()"
   ]
  },
  {
   "cell_type": "code",
   "execution_count": 26,
   "metadata": {},
   "outputs": [],
   "source": [
    "#Colocando os dias da semana e finais de semana\n",
    "# Adicionando uma coluna com o dia da semana por extenso\n",
    "dados_acidentes_total['dia_da_semana'] = dados_acidentes_total['Start_Time'].apply(lambda x: x.strftime('%A'))\n",
    "\n",
    "# Adicionando uma coluna para indicar se é final de semana ou não\n",
    "dados_acidentes_total['final_de_semana'] = dados_acidentes_total['Start_Time'].apply(lambda x: \"final semana\" if x.weekday() in [5, 6] else \"dia útil\")"
   ]
  },
  {
   "cell_type": "code",
   "execution_count": 27,
   "metadata": {},
   "outputs": [
    {
     "data": {
      "text/plain": [
       "dia_da_semana\n",
       "Friday       17.363836\n",
       "Monday       14.683119\n",
       "Saturday     11.071919\n",
       "Sunday        9.039718\n",
       "Thursday     16.305236\n",
       "Tuesday      15.559100\n",
       "Wednesday    15.977072\n",
       "Name: Severity, dtype: float64"
      ]
     },
     "execution_count": 27,
     "metadata": {},
     "output_type": "execute_result"
    }
   ],
   "source": [
    "count = dados_acidentes_total.groupby(['dia_da_semana'])['Severity'].count()\n",
    "total = dados_acidentes_total['Severity'].count()\n",
    "count/total * 100"
   ]
  },
  {
   "cell_type": "code",
   "execution_count": 28,
   "metadata": {},
   "outputs": [
    {
     "data": {
      "text/plain": [
       "dia_da_semana  Severity\n",
       "Friday         1            1.049769\n",
       "               2           89.727488\n",
       "               3            5.255553\n",
       "               4            3.967190\n",
       "Monday         1            1.031155\n",
       "               2           89.180678\n",
       "               3            5.384464\n",
       "               4            4.403703\n",
       "Saturday       1            0.703922\n",
       "               2           91.192664\n",
       "               3            3.851047\n",
       "               4            4.252367\n",
       "Sunday         1            0.793196\n",
       "               2           90.196201\n",
       "               3            4.089799\n",
       "               4            4.920805\n",
       "Thursday       1            1.031310\n",
       "               2           89.433044\n",
       "               3            5.522128\n",
       "               4            4.013517\n",
       "Tuesday        1            0.970686\n",
       "               2           89.279722\n",
       "               3            5.484221\n",
       "               4            4.265371\n",
       "Wednesday      1            0.980321\n",
       "               2           89.539719\n",
       "               3            5.388473\n",
       "               4            4.091487\n",
       "Name: Severity, dtype: float64"
      ]
     },
     "execution_count": 28,
     "metadata": {},
     "output_type": "execute_result"
    }
   ],
   "source": [
    "counts = dados_acidentes_total.groupby(['dia_da_semana', 'Severity'])['Severity'].count()\n",
    "total_by_weekday = dados_acidentes_total.groupby(['dia_da_semana'])['Severity'].count()\n",
    "counts / total_by_weekday * 100"
   ]
  },
  {
   "cell_type": "code",
   "execution_count": 29,
   "metadata": {},
   "outputs": [
    {
     "name": "stdout",
     "output_type": "stream",
     "text": [
      "CA    743267\n",
      "FL    387404\n",
      "TX    140699\n",
      "OR    116442\n",
      "NY    102725\n",
      "VA    102559\n",
      "PA     95488\n",
      "MN     92285\n",
      "NC     86354\n",
      "SC     85727\n",
      "Name: State, dtype: int64\n"
     ]
    }
   ],
   "source": [
    "#Verificando os estados dos acidentes\n",
    "print(dados_acidentes_total['State'].value_counts().head(10))"
   ]
  },
  {
   "cell_type": "code",
   "execution_count": 30,
   "metadata": {},
   "outputs": [
    {
     "data": {
      "text/plain": [
       "State  Severity\n",
       "CA     1            0.663019\n",
       "       2           96.201231\n",
       "       3            2.146200\n",
       "       4            0.989550\n",
       "FL     1            0.709595\n",
       "       2           94.374864\n",
       "       3            2.698733\n",
       "       4            2.216807\n",
       "OR     1            1.077790\n",
       "       2           93.980694\n",
       "       3            1.927140\n",
       "       4            3.014376\n",
       "TX     1            0.668093\n",
       "       2           84.022630\n",
       "       3           12.441453\n",
       "       4            2.867824\n",
       "Name: Severity, dtype: float64"
      ]
     },
     "execution_count": 30,
     "metadata": {},
     "output_type": "execute_result"
    }
   ],
   "source": [
    "# Analisando a severidade dos acidentes dos estados de CA, FL e TX.\n",
    "tmp_dados_acidentes_total = dados_acidentes_total[dados_acidentes_total['State'].isin(['CA', 'FL', 'TX', 'OR'])]\n",
    "counts = tmp_dados_acidentes_total.groupby(['State', 'Severity'])['Severity'].count()\n",
    "total_by_state = dados_acidentes_total.groupby(['State'])['Severity'].count()\n",
    "counts / total_by_state * 100"
   ]
  },
  {
   "cell_type": "code",
   "execution_count": 31,
   "metadata": {},
   "outputs": [
    {
     "name": "stdout",
     "output_type": "stream",
     "text": [
      "Média:  61.9686160974525\n",
      "Desvio Padrão:  18.585864696268196\n",
      "Valor Mínimo:  -33.0\n",
      "Valor Máximo:  196.0\n",
      "Quartis:  0.25    50.0\n",
      "0.50    64.0\n",
      "0.75    76.0\n",
      "Name: Temperature(F), dtype: float64\n"
     ]
    }
   ],
   "source": [
    "# Analisando a temperatura\n",
    "media = dados_acidentes_total[\"Temperature(F)\"].mean()\n",
    "desvio_padrao = dados_acidentes_total[\"Temperature(F)\"].std()\n",
    "valor_minimo = dados_acidentes_total[\"Temperature(F)\"].min()\n",
    "valor_maximo = dados_acidentes_total[\"Temperature(F)\"].max()\n",
    "quartis = dados_acidentes_total[\"Temperature(F)\"].quantile([0.25, 0.5, 0.75])\n",
    "\n",
    "print(\"Média: \", media)\n",
    "print(\"Desvio Padrão: \", desvio_padrao)\n",
    "print(\"Valor Mínimo: \", valor_minimo)\n",
    "print(\"Valor Máximo: \", valor_maximo)\n",
    "print(\"Quartis: \", quartis)"
   ]
  },
  {
   "cell_type": "code",
   "execution_count": 32,
   "metadata": {},
   "outputs": [
    {
     "data": {
      "image/png": "[encoded data removed]",
      "text/plain": [
       "<Figure size 640x480 with 1 Axes>"
      ]
     },
     "metadata": {},
     "output_type": "display_data"
    }
   ],
   "source": [
    "plt.boxplot(dados_acidentes_total[\"Temperature(F)\"])\n",
    "plt.title(\"Boxplot da Temperature(F)\")\n",
    "plt.xlabel(\"Temperatura (F)\")\n",
    "plt.show()"
   ]
  },
  {
   "cell_type": "code",
   "execution_count": 33,
   "metadata": {},
   "outputs": [
    {
     "data": {
      "image/png": "[encoded data removed]",
      "text/plain": [
       "<Figure size 640x480 with 1 Axes>"
      ]
     },
     "metadata": {},
     "output_type": "display_data"
    }
   ],
   "source": [
    "plt.hist(dados_acidentes_total[\"Temperature(F)\"], bins=30, edgecolor='black')\n",
    "plt.title(\"Histograma da Temperatura\")\n",
    "plt.xlabel(\"Temperatura (F)\")\n",
    "plt.ylabel(\"Frequência\")\n",
    "plt.show()"
   ]
  },
  {
   "cell_type": "code",
   "execution_count": 34,
   "metadata": {},
   "outputs": [
    {
     "name": "stdout",
     "output_type": "stream",
     "text": [
      "Média:  64.13776262177056\n",
      "Desvio Padrão:  22.839088598632834\n",
      "Valor Mínimo:  1.0\n",
      "Valor Máximo:  100.0\n",
      "Quartis:  0.25    48.0\n",
      "0.50    66.0\n",
      "0.75    83.0\n",
      "Name: Humidity(%), dtype: float64\n"
     ]
    }
   ],
   "source": [
    "# Analisando a umidade\n",
    "media = dados_acidentes_total[\"Humidity(%)\"].mean()\n",
    "desvio_padrao = dados_acidentes_total[\"Humidity(%)\"].std()\n",
    "valor_minimo = dados_acidentes_total[\"Humidity(%)\"].min()\n",
    "valor_maximo = dados_acidentes_total[\"Humidity(%)\"].max()\n",
    "quartis = dados_acidentes_total[\"Humidity(%)\"].quantile([0.25, 0.5, 0.75])\n",
    "\n",
    "print(\"Média: \", media)\n",
    "print(\"Desvio Padrão: \", desvio_padrao)\n",
    "print(\"Valor Mínimo: \", valor_minimo)\n",
    "print(\"Valor Máximo: \", valor_maximo)\n",
    "print(\"Quartis: \", quartis)"
   ]
  },
  {
   "cell_type": "code",
   "execution_count": 35,
   "metadata": {},
   "outputs": [
    {
     "data": {
      "image/png": "[encoded data removed]",
      "text/plain": [
       "<Figure size 640x480 with 1 Axes>"
      ]
     },
     "metadata": {},
     "output_type": "display_data"
    }
   ],
   "source": [
    "plt.boxplot(dados_acidentes_total[\"Humidity(%)\"])\n",
    "plt.title(\"Boxplot da Umidade(%)\")\n",
    "plt.xlabel(\"Umidade (%)\")\n",
    "plt.show()"
   ]
  },
  {
   "cell_type": "code",
   "execution_count": 36,
   "metadata": {},
   "outputs": [
    {
     "data": {
      "image/png": "[encoded data removed]",
      "text/plain": [
       "<Figure size 640x480 with 1 Axes>"
      ]
     },
     "metadata": {},
     "output_type": "display_data"
    }
   ],
   "source": [
    "plt.hist(dados_acidentes_total[\"Humidity(%)\"], bins=20, edgecolor='black')\n",
    "plt.title(\"Histograma da Umidade\")\n",
    "plt.xlabel(\"Umidade (%)\")\n",
    "plt.ylabel(\"Frequência\")\n",
    "plt.show()"
   ]
  },
  {
   "cell_type": "code",
   "execution_count": 37,
   "metadata": {},
   "outputs": [
    {
     "name": "stdout",
     "output_type": "stream",
     "text": [
      "Média:  7.396238559125955\n",
      "Desvio Padrão:  5.5040430738152075\n",
      "Valor Mínimo:  0.0\n",
      "Valor Máximo:  1087.0\n",
      "Quartis:  0.25     3.5\n",
      "0.50     7.0\n",
      "0.75    10.0\n",
      "Name: Wind_Speed(mph), dtype: float64\n"
     ]
    }
   ],
   "source": [
    "# Analisando a velocidade do vento\n",
    "media = dados_acidentes_total[\"Wind_Speed(mph)\"].mean()\n",
    "desvio_padrao = dados_acidentes_total[\"Wind_Speed(mph)\"].std()\n",
    "valor_minimo = dados_acidentes_total[\"Wind_Speed(mph)\"].min()\n",
    "valor_maximo = dados_acidentes_total[\"Wind_Speed(mph)\"].max()\n",
    "quartis = dados_acidentes_total[\"Wind_Speed(mph)\"].quantile([0.25, 0.5, 0.75])\n",
    "\n",
    "print(\"Média: \", media)\n",
    "print(\"Desvio Padrão: \", desvio_padrao)\n",
    "print(\"Valor Mínimo: \", valor_minimo)\n",
    "print(\"Valor Máximo: \", valor_maximo)\n",
    "print(\"Quartis: \", quartis)"
   ]
  },
  {
   "cell_type": "code",
   "execution_count": 38,
   "metadata": {},
   "outputs": [
    {
     "data": {
      "image/png": "[encoded data removed]",
      "text/plain": [
       "<Figure size 640x480 with 1 Axes>"
      ]
     },
     "metadata": {},
     "output_type": "display_data"
    }
   ],
   "source": [
    "plt.boxplot(dados_acidentes_total[\"Wind_Speed(mph)\"])\n",
    "plt.title(\"Boxplot da velocidade do vento(mph)\")\n",
    "plt.xlabel(\"Velocidade do vento (mph)\")\n",
    "plt.show()"
   ]
  },
  {
   "cell_type": "code",
   "execution_count": 39,
   "metadata": {},
   "outputs": [
    {
     "data": {
      "text/plain": [
       "Severity\n",
       "1    71.226386\n",
       "2    62.000329\n",
       "3    62.390612\n",
       "4    58.681194\n",
       "Name: Temperature(F), dtype: float64"
      ]
     },
     "execution_count": 39,
     "metadata": {},
     "output_type": "execute_result"
    }
   ],
   "source": [
    "# Analisando as condições climáticas de temperatura e a severidade dos acidentes\n",
    "dados_acidentes_total.groupby(['Severity'])['Temperature(F)'].mean()"
   ]
  },
  {
   "cell_type": "code",
   "execution_count": 40,
   "metadata": {},
   "outputs": [
    {
     "data": {
      "text/plain": [
       "<Axes: xlabel='Severity', ylabel='Temperature(F)'>"
      ]
     },
     "execution_count": 40,
     "metadata": {},
     "output_type": "execute_result"
    },
    {
     "data": {
      "image/png": "[encoded data removed]",
      "text/plain": [
       "<Figure size 640x480 with 1 Axes>"
      ]
     },
     "metadata": {},
     "output_type": "display_data"
    }
   ],
   "source": [
    "sns.boxplot(data=dados_acidentes_total, x='Severity', y='Temperature(F)')"
   ]
  },
  {
   "cell_type": "code",
   "execution_count": 41,
   "metadata": {},
   "outputs": [
    {
     "data": {
      "text/plain": [
       "Severity\n",
       "1    50.028117\n",
       "2    64.223473\n",
       "3    63.339234\n",
       "4    66.488806\n",
       "Name: Humidity(%), dtype: float64"
      ]
     },
     "execution_count": 41,
     "metadata": {},
     "output_type": "execute_result"
    }
   ],
   "source": [
    "# Analisando as condições de umidade e a severidade dos acidentes\n",
    "dados_acidentes_total.groupby(['Severity'])['Humidity(%)'].mean()"
   ]
  },
  {
   "cell_type": "code",
   "execution_count": 42,
   "metadata": {},
   "outputs": [
    {
     "data": {
      "text/plain": [
       "<Axes: xlabel='Severity', ylabel='Humidity(%)'>"
      ]
     },
     "execution_count": 42,
     "metadata": {},
     "output_type": "execute_result"
    },
    {
     "data": {
      "image/png": "[encoded data removed]",
      "text/plain": [
       "<Figure size 640x480 with 1 Axes>"
      ]
     },
     "metadata": {},
     "output_type": "display_data"
    }
   ],
   "source": [
    "sns.boxplot(data=dados_acidentes_total, x='Severity', y='Humidity(%)')"
   ]
  },
  {
   "cell_type": "code",
   "execution_count": 43,
   "metadata": {},
   "outputs": [
    {
     "data": {
      "text/plain": [
       "Severity\n",
       "1    9.530995\n",
       "2    9.087711\n",
       "3    9.370205\n",
       "4    9.129725\n",
       "Name: Visibility(mi), dtype: float64"
      ]
     },
     "execution_count": 43,
     "metadata": {},
     "output_type": "execute_result"
    }
   ],
   "source": [
    "# Analisando as condições de visibilidade e a severidade dos acidentes\n",
    "dados_acidentes_total.groupby(['Severity'])['Visibility(mi)'].mean()"
   ]
  },
  {
   "cell_type": "code",
   "execution_count": 44,
   "metadata": {},
   "outputs": [
    {
     "data": {
      "text/plain": [
       "<Axes: xlabel='Severity', ylabel='Visibility(mi)'>"
      ]
     },
     "execution_count": 44,
     "metadata": {},
     "output_type": "execute_result"
    },
    {
     "data": {
      "image/png": "[encoded data removed]",
      "text/plain": [
       "<Figure size 640x480 with 1 Axes>"
      ]
     },
     "metadata": {},
     "output_type": "display_data"
    }
   ],
   "source": [
    "sns.boxplot(data=dados_acidentes_total, x='Severity', y='Visibility(mi)')"
   ]
  },
  {
   "cell_type": "code",
   "execution_count": 45,
   "metadata": {},
   "outputs": [
    {
     "data": {
      "text/plain": [
       "Severity\n",
       "1    8.394110\n",
       "2    7.265685\n",
       "3    8.996491\n",
       "4    8.004964\n",
       "Name: Wind_Speed(mph), dtype: float64"
      ]
     },
     "execution_count": 45,
     "metadata": {},
     "output_type": "execute_result"
    }
   ],
   "source": [
    "# Analisando as condições de velocidade do vento e a severidade dos acidentes\n",
    "dados_acidentes_total.groupby(['Severity'])['Wind_Speed(mph)'].mean()"
   ]
  },
  {
   "cell_type": "code",
   "execution_count": 46,
   "metadata": {},
   "outputs": [
    {
     "data": {
      "text/plain": [
       "<Axes: xlabel='Severity', ylabel='Wind_Speed(mph)'>"
      ]
     },
     "execution_count": 46,
     "metadata": {},
     "output_type": "execute_result"
    },
    {
     "data": {
      "image/png": "[encoded data removed]",
      "text/plain": [
       "<Figure size 640x480 with 1 Axes>"
      ]
     },
     "metadata": {},
     "output_type": "display_data"
    }
   ],
   "source": [
    "sns.boxplot(data=dados_acidentes_total, x='Severity', y='Wind_Speed(mph)')"
   ]
  },
  {
   "cell_type": "code",
   "execution_count": 47,
   "metadata": {},
   "outputs": [
    {
     "data": {
      "text/plain": [
       "Severity  Traffic_Signal\n",
       "1         False             53.861216\n",
       "          True              46.138784\n",
       "2         False             91.086930\n",
       "          True               8.913070\n",
       "3         False             88.643491\n",
       "          True              11.356509\n",
       "4         False             89.564970\n",
       "          True              10.435030\n",
       "Name: Traffic_Signal, dtype: float64"
      ]
     },
     "execution_count": 47,
     "metadata": {},
     "output_type": "execute_result"
    }
   ],
   "source": [
    "# Analisando as condições de presença de semáforo e a severidade dos acidentes\n",
    "t = dados_acidentes_total.groupby(['Severity'])['Traffic_Signal'].count()\n",
    "p = dados_acidentes_total.groupby(['Severity','Traffic_Signal'])['Traffic_Signal'].count()\n",
    "p/t*100"
   ]
  },
  {
   "cell_type": "code",
   "execution_count": 48,
   "metadata": {},
   "outputs": [
    {
     "data": {
      "text/plain": [
       "Severity  Sunrise_Sunset\n",
       "1         Day               83.309837\n",
       "          Night             16.690163\n",
       "2         Day               63.637917\n",
       "          Night             36.362083\n",
       "3         Day               71.081373\n",
       "          Night             28.918627\n",
       "4         Day               60.700531\n",
       "          Night             39.299469\n",
       "Name: Sunrise_Sunset, dtype: float64"
      ]
     },
     "execution_count": 48,
     "metadata": {},
     "output_type": "execute_result"
    }
   ],
   "source": [
    "# Analisando as condições de presença de semáforo e a severidade dos acidentes\n",
    "t = dados_acidentes_total.groupby(['Severity'])['Sunrise_Sunset'].count()\n",
    "p = dados_acidentes_total.groupby(['Severity','Sunrise_Sunset'])['Sunrise_Sunset'].count()\n",
    "p/t*100"
   ]
  },
  {
   "cell_type": "code",
   "execution_count": 49,
   "metadata": {},
   "outputs": [
    {
     "name": "stdout",
     "output_type": "stream",
     "text": [
      "Dados sobre: Severity\n",
      "Dados sobre: Start_Time\n",
      "Dados sobre: End_Time\n",
      "Dados sobre: Side\n",
      "Dados sobre: City\n",
      "Dados sobre: County\n",
      "Dados sobre: State\n",
      "Dados sobre: Temperature(F)\n",
      "Dados sobre: Humidity(%)\n",
      "Dados sobre: Pressure(in)\n",
      "Dados sobre: Visibility(mi)\n",
      "Dados sobre: Wind_Direction\n",
      "Dados sobre: Wind_Speed(mph)\n",
      "Dados sobre: Traffic_Signal\n",
      "Dados sobre: Sunrise_Sunset\n",
      "Dados sobre: Ano\n",
      "Dados sobre: Mes_ano\n",
      "Dados sobre: Duracao(min)\n",
      "Dados sobre: Total_veh\n",
      "Dados sobre: dia_da_semana\n",
      "Dados sobre: final_de_semana\n"
     ]
    }
   ],
   "source": [
    "#Colunas de dados utilizados\n",
    "dados_acidentes.columns\n",
    "for n in range(len(dados_acidentes_total.columns)):\n",
    "    print('Dados sobre: {}'.format(dados_acidentes_total.columns[n]))"
   ]
  },
  {
   "cell_type": "code",
   "execution_count": 50,
   "metadata": {},
   "outputs": [
    {
     "name": "stdout",
     "output_type": "stream",
     "text": [
      "A fonte de dados contem linhas: 2,662,384 e colunas: 21\n"
     ]
    }
   ],
   "source": [
    "#Formato do dataframe\n",
    "print('A fonte de dados contem linhas: {:,d} e colunas: {}'.format(dados_acidentes_total.shape[0], dados_acidentes_total.shape[1]))"
   ]
  },
  {
   "attachments": {},
   "cell_type": "markdown",
   "metadata": {},
   "source": [
    "## Seleção dos atributos com maior correlação\n",
    "Analisando os atributos não categóricos."
   ]
  },
  {
   "cell_type": "code",
   "execution_count": 51,
   "metadata": {},
   "outputs": [],
   "source": [
    "X_select = dados_acidentes_total.drop(['Severity','Start_Time','End_Time','Ano','Mes_ano','City','County','State','Wind_Direction',\n",
    "                                       'Sunrise_Sunset','Side','dia_da_semana','final_de_semana'], axis=1)\n",
    "y_select = dados_acidentes_total['Severity']"
   ]
  },
  {
   "cell_type": "code",
   "execution_count": 52,
   "metadata": {},
   "outputs": [
    {
     "data": {
      "text/html": [
       "<div>\n",
       "<style scoped>\n",
       "    .dataframe tbody tr th:only-of-type {\n",
       "        vertical-align: middle;\n",
       "    }\n",
       "\n",
       "    .dataframe tbody tr th {\n",
       "        vertical-align: top;\n",
       "    }\n",
       "\n",
       "    .dataframe thead th {\n",
       "        text-align: right;\n",
       "    }\n",
       "</style>\n",
       "<table border=\"1\" class=\"dataframe\">\n",
       "  <thead>\n",
       "    <tr style=\"text-align: right;\">\n",
       "      <th></th>\n",
       "      <th>Temperature(F)</th>\n",
       "      <th>Humidity(%)</th>\n",
       "      <th>Pressure(in)</th>\n",
       "      <th>Visibility(mi)</th>\n",
       "      <th>Wind_Speed(mph)</th>\n",
       "      <th>Traffic_Signal</th>\n",
       "      <th>Duracao(min)</th>\n",
       "      <th>Total_veh</th>\n",
       "    </tr>\n",
       "  </thead>\n",
       "  <tbody>\n",
       "    <tr>\n",
       "      <th>0</th>\n",
       "      <td>42.1</td>\n",
       "      <td>58.0</td>\n",
       "      <td>29.76</td>\n",
       "      <td>10.0</td>\n",
       "      <td>10.4</td>\n",
       "      <td>False</td>\n",
       "      <td>360</td>\n",
       "      <td>9979600</td>\n",
       "    </tr>\n",
       "    <tr>\n",
       "      <th>1</th>\n",
       "      <td>37.0</td>\n",
       "      <td>93.0</td>\n",
       "      <td>29.69</td>\n",
       "      <td>10.0</td>\n",
       "      <td>10.4</td>\n",
       "      <td>False</td>\n",
       "      <td>360</td>\n",
       "      <td>9979600</td>\n",
       "    </tr>\n",
       "    <tr>\n",
       "      <th>2</th>\n",
       "      <td>35.6</td>\n",
       "      <td>100.0</td>\n",
       "      <td>29.66</td>\n",
       "      <td>10.0</td>\n",
       "      <td>8.1</td>\n",
       "      <td>True</td>\n",
       "      <td>360</td>\n",
       "      <td>9979600</td>\n",
       "    </tr>\n",
       "    <tr>\n",
       "      <th>3</th>\n",
       "      <td>33.8</td>\n",
       "      <td>100.0</td>\n",
       "      <td>29.63</td>\n",
       "      <td>3.0</td>\n",
       "      <td>2.3</td>\n",
       "      <td>False</td>\n",
       "      <td>360</td>\n",
       "      <td>9979600</td>\n",
       "    </tr>\n",
       "    <tr>\n",
       "      <th>4</th>\n",
       "      <td>33.1</td>\n",
       "      <td>92.0</td>\n",
       "      <td>29.63</td>\n",
       "      <td>0.5</td>\n",
       "      <td>3.5</td>\n",
       "      <td>False</td>\n",
       "      <td>360</td>\n",
       "      <td>9979600</td>\n",
       "    </tr>\n",
       "    <tr>\n",
       "      <th>...</th>\n",
       "      <td>...</td>\n",
       "      <td>...</td>\n",
       "      <td>...</td>\n",
       "      <td>...</td>\n",
       "      <td>...</td>\n",
       "      <td>...</td>\n",
       "      <td>...</td>\n",
       "      <td>...</td>\n",
       "    </tr>\n",
       "    <tr>\n",
       "      <th>2662379</th>\n",
       "      <td>86.0</td>\n",
       "      <td>40.0</td>\n",
       "      <td>28.92</td>\n",
       "      <td>10.0</td>\n",
       "      <td>13.0</td>\n",
       "      <td>False</td>\n",
       "      <td>28</td>\n",
       "      <td>33535000</td>\n",
       "    </tr>\n",
       "    <tr>\n",
       "      <th>2662380</th>\n",
       "      <td>70.0</td>\n",
       "      <td>73.0</td>\n",
       "      <td>29.39</td>\n",
       "      <td>10.0</td>\n",
       "      <td>6.0</td>\n",
       "      <td>False</td>\n",
       "      <td>26</td>\n",
       "      <td>33535000</td>\n",
       "    </tr>\n",
       "    <tr>\n",
       "      <th>2662381</th>\n",
       "      <td>73.0</td>\n",
       "      <td>64.0</td>\n",
       "      <td>29.74</td>\n",
       "      <td>10.0</td>\n",
       "      <td>10.0</td>\n",
       "      <td>False</td>\n",
       "      <td>28</td>\n",
       "      <td>33535000</td>\n",
       "    </tr>\n",
       "    <tr>\n",
       "      <th>2662382</th>\n",
       "      <td>71.0</td>\n",
       "      <td>81.0</td>\n",
       "      <td>29.62</td>\n",
       "      <td>10.0</td>\n",
       "      <td>8.0</td>\n",
       "      <td>False</td>\n",
       "      <td>29</td>\n",
       "      <td>33535000</td>\n",
       "    </tr>\n",
       "    <tr>\n",
       "      <th>2662383</th>\n",
       "      <td>79.0</td>\n",
       "      <td>47.0</td>\n",
       "      <td>28.63</td>\n",
       "      <td>7.0</td>\n",
       "      <td>7.0</td>\n",
       "      <td>False</td>\n",
       "      <td>29</td>\n",
       "      <td>33535000</td>\n",
       "    </tr>\n",
       "  </tbody>\n",
       "</table>\n",
       "<p>2662384 rows × 8 columns</p>\n",
       "</div>"
      ],
      "text/plain": [
       "         Temperature(F)  Humidity(%)  Pressure(in)  Visibility(mi)  \\\n",
       "0                  42.1         58.0         29.76            10.0   \n",
       "1                  37.0         93.0         29.69            10.0   \n",
       "2                  35.6        100.0         29.66            10.0   \n",
       "3                  33.8        100.0         29.63             3.0   \n",
       "4                  33.1         92.0         29.63             0.5   \n",
       "...                 ...          ...           ...             ...   \n",
       "2662379            86.0         40.0         28.92            10.0   \n",
       "2662380            70.0         73.0         29.39            10.0   \n",
       "2662381            73.0         64.0         29.74            10.0   \n",
       "2662382            71.0         81.0         29.62            10.0   \n",
       "2662383            79.0         47.0         28.63             7.0   \n",
       "\n",
       "         Wind_Speed(mph)  Traffic_Signal  Duracao(min)  Total_veh  \n",
       "0                   10.4           False           360    9979600  \n",
       "1                   10.4           False           360    9979600  \n",
       "2                    8.1            True           360    9979600  \n",
       "3                    2.3           False           360    9979600  \n",
       "4                    3.5           False           360    9979600  \n",
       "...                  ...             ...           ...        ...  \n",
       "2662379             13.0           False            28   33535000  \n",
       "2662380              6.0           False            26   33535000  \n",
       "2662381             10.0           False            28   33535000  \n",
       "2662382              8.0           False            29   33535000  \n",
       "2662383              7.0           False            29   33535000  \n",
       "\n",
       "[2662384 rows x 8 columns]"
      ]
     },
     "execution_count": 52,
     "metadata": {},
     "output_type": "execute_result"
    }
   ],
   "source": [
    "X_select"
   ]
  },
  {
   "cell_type": "code",
   "execution_count": 55,
   "metadata": {},
   "outputs": [
    {
     "data": {
      "text/html": [
       "<div>\n",
       "<style scoped>\n",
       "    .dataframe tbody tr th:only-of-type {\n",
       "        vertical-align: middle;\n",
       "    }\n",
       "\n",
       "    .dataframe tbody tr th {\n",
       "        vertical-align: top;\n",
       "    }\n",
       "\n",
       "    .dataframe thead th {\n",
       "        text-align: right;\n",
       "    }\n",
       "</style>\n",
       "<table border=\"1\" class=\"dataframe\">\n",
       "  <thead>\n",
       "    <tr style=\"text-align: right;\">\n",
       "      <th></th>\n",
       "      <th>Temperature(F)</th>\n",
       "      <th>Humidity(%)</th>\n",
       "      <th>Wind_Speed(mph)</th>\n",
       "      <th>Traffic_Signal</th>\n",
       "      <th>Total_veh</th>\n",
       "    </tr>\n",
       "  </thead>\n",
       "  <tbody>\n",
       "    <tr>\n",
       "      <th>0</th>\n",
       "      <td>42.1</td>\n",
       "      <td>58.0</td>\n",
       "      <td>10.4</td>\n",
       "      <td>False</td>\n",
       "      <td>9979600</td>\n",
       "    </tr>\n",
       "    <tr>\n",
       "      <th>1</th>\n",
       "      <td>37.0</td>\n",
       "      <td>93.0</td>\n",
       "      <td>10.4</td>\n",
       "      <td>False</td>\n",
       "      <td>9979600</td>\n",
       "    </tr>\n",
       "    <tr>\n",
       "      <th>2</th>\n",
       "      <td>35.6</td>\n",
       "      <td>100.0</td>\n",
       "      <td>8.1</td>\n",
       "      <td>True</td>\n",
       "      <td>9979600</td>\n",
       "    </tr>\n",
       "    <tr>\n",
       "      <th>3</th>\n",
       "      <td>33.8</td>\n",
       "      <td>100.0</td>\n",
       "      <td>2.3</td>\n",
       "      <td>False</td>\n",
       "      <td>9979600</td>\n",
       "    </tr>\n",
       "    <tr>\n",
       "      <th>4</th>\n",
       "      <td>33.1</td>\n",
       "      <td>92.0</td>\n",
       "      <td>3.5</td>\n",
       "      <td>False</td>\n",
       "      <td>9979600</td>\n",
       "    </tr>\n",
       "    <tr>\n",
       "      <th>...</th>\n",
       "      <td>...</td>\n",
       "      <td>...</td>\n",
       "      <td>...</td>\n",
       "      <td>...</td>\n",
       "      <td>...</td>\n",
       "    </tr>\n",
       "    <tr>\n",
       "      <th>2662379</th>\n",
       "      <td>86.0</td>\n",
       "      <td>40.0</td>\n",
       "      <td>13.0</td>\n",
       "      <td>False</td>\n",
       "      <td>33535000</td>\n",
       "    </tr>\n",
       "    <tr>\n",
       "      <th>2662380</th>\n",
       "      <td>70.0</td>\n",
       "      <td>73.0</td>\n",
       "      <td>6.0</td>\n",
       "      <td>False</td>\n",
       "      <td>33535000</td>\n",
       "    </tr>\n",
       "    <tr>\n",
       "      <th>2662381</th>\n",
       "      <td>73.0</td>\n",
       "      <td>64.0</td>\n",
       "      <td>10.0</td>\n",
       "      <td>False</td>\n",
       "      <td>33535000</td>\n",
       "    </tr>\n",
       "    <tr>\n",
       "      <th>2662382</th>\n",
       "      <td>71.0</td>\n",
       "      <td>81.0</td>\n",
       "      <td>8.0</td>\n",
       "      <td>False</td>\n",
       "      <td>33535000</td>\n",
       "    </tr>\n",
       "    <tr>\n",
       "      <th>2662383</th>\n",
       "      <td>79.0</td>\n",
       "      <td>47.0</td>\n",
       "      <td>7.0</td>\n",
       "      <td>False</td>\n",
       "      <td>33535000</td>\n",
       "    </tr>\n",
       "  </tbody>\n",
       "</table>\n",
       "<p>2662384 rows × 5 columns</p>\n",
       "</div>"
      ],
      "text/plain": [
       "         Temperature(F)  Humidity(%)  Wind_Speed(mph)  Traffic_Signal  \\\n",
       "0                  42.1         58.0             10.4           False   \n",
       "1                  37.0         93.0             10.4           False   \n",
       "2                  35.6        100.0              8.1            True   \n",
       "3                  33.8        100.0              2.3           False   \n",
       "4                  33.1         92.0              3.5           False   \n",
       "...                 ...          ...              ...             ...   \n",
       "2662379            86.0         40.0             13.0           False   \n",
       "2662380            70.0         73.0              6.0           False   \n",
       "2662381            73.0         64.0             10.0           False   \n",
       "2662382            71.0         81.0              8.0           False   \n",
       "2662383            79.0         47.0              7.0           False   \n",
       "\n",
       "         Total_veh  \n",
       "0          9979600  \n",
       "1          9979600  \n",
       "2          9979600  \n",
       "3          9979600  \n",
       "4          9979600  \n",
       "...            ...  \n",
       "2662379   33535000  \n",
       "2662380   33535000  \n",
       "2662381   33535000  \n",
       "2662382   33535000  \n",
       "2662383   33535000  \n",
       "\n",
       "[2662384 rows x 5 columns]"
      ]
     },
     "execution_count": 55,
     "metadata": {},
     "output_type": "execute_result"
    }
   ],
   "source": [
    "selector = SelectKBest(f_classif, k=5)\n",
    "X_new = selector.fit_transform(X_select, y_select)\n",
    "selected_features = X_select.columns[selector.get_support()]\n",
    "\n",
    "var_select = dados_acidentes_total[selected_features]\n",
    "var_select"
   ]
  },
  {
   "attachments": {},
   "cell_type": "markdown",
   "metadata": {},
   "source": [
    "Fora retirados os atributos, \"Duracao(min)\", \"Visibility(mi)\" e \"Pressure(in)\""
   ]
  },
  {
   "attachments": {},
   "cell_type": "markdown",
   "metadata": {},
   "source": [
    "## Início do modelo de machine learning\n",
    "Utilizar 3 modelos diferentes\n",
    "- Clusterização\n",
    "- Predição do nível de severidade\n",
    "- Probabilidade do nível de severidade\n",
    "\n",
    "Essas são as 3 técnicas de Machine Learning que podem ser usadas para clusterização e predição da severidade dos acidentes de trânsito:\n",
    "\n",
    "Random Forests (RF): É um algoritmo de aprendizado supervisionado que pode ser usado tanto para classificação quanto para regressão. Ele constrói várias árvores de decisão e combina suas previsões para obter resultados mais precisos e estáveis 1.\n",
    "\n",
    "Logistic Regression (LR): É um algoritmo de aprendizado supervisionado usado principalmente para problemas de classificação binária. Ele usa uma função logística para modelar a probabilidade de uma observação pertencer a uma das duas classes 1.\n",
    "\n",
    "Naive Bayes (NB): É um algoritmo de aprendizado supervisionado baseado no teorema de Bayes. Ele assume que as características são independentes entre si e calcula a probabilidade de cada classe dado um conjunto de características 2.\n"
   ]
  },
  {
   "cell_type": "code",
   "execution_count": 87,
   "metadata": {},
   "outputs": [],
   "source": [
    "X_kmeans = dados_acidentes_total[['Side','State','Temperature(F)','Humidity(%)',\n",
    "                            'Wind_Speed(mph)','Traffic_Signal','Sunrise_Sunset',\n",
    "                            'Total_veh']] # características\n",
    "X_kmeans = pd.get_dummies(X_kmeans, columns=['Side','State','Traffic_Signal','Sunrise_Sunset'])"
   ]
  },
  {
   "cell_type": "code",
   "execution_count": null,
   "metadata": {},
   "outputs": [],
   "source": [
    "silhouette_scores = []\n",
    "for k in range(2, 11):\n",
    "    kmeans = KMeans(n_clusters=k, random_state=42).fit(X_kmeans)\n",
    "    silhouette_scores.append(silhouette_score(X_kmeans, kmeans.labels_))\n",
    "\n",
    "plt.plot(range(2, 11), silhouette_scores)\n",
    "plt.xlabel('Número de clusters')\n",
    "plt.ylabel('Silhouette score')\n",
    "plt.show()"
   ]
  },
  {
   "cell_type": "code",
   "execution_count": null,
   "metadata": {},
   "outputs": [],
   "source": [
    "kmeans = KMeans(n_clusters=5, random_state=42).fit(X_kmeans)"
   ]
  },
  {
   "cell_type": "code",
   "execution_count": null,
   "metadata": {},
   "outputs": [],
   "source": [
    "X_kmeans['cluster'] = kmeans.labels_"
   ]
  },
  {
   "cell_type": "code",
   "execution_count": null,
   "metadata": {},
   "outputs": [],
   "source": [
    "fig, ax = plt.subplots(1, 3, figsize=(15, 5))\n",
    "ax[0].scatter(df['Temperature(F)'], df['Humidity(%)'], c=kmeans.labels_, cmap='rainbow')\n",
    "ax[0].set_xlabel('Temperature(F)')\n",
    "ax[0].set_ylabel('Humidity(%)')\n",
    "\n",
    "ax[1].scatter(df['Temperature(F)'], df['Wind_Speed(mph)'], c=kmeans.labels_, cmap='rainbow')\n",
    "ax[1].set_xlabel('Temperature(F)')\n",
    "ax[1].set_ylabel('Wind_Speed(mph)')\n",
    "\n",
    "ax[2].scatter(df['Total_veh'], df['Traffic_Signal'], c=kmeans.labels_, cmap='rainbow')\n",
    "ax[2].set_xlabel('Total_veh')\n",
    "ax[2].set_ylabel('Traffic_Signal')\n",
    "\n",
    "plt.show()"
   ]
  },
  {
   "cell_type": "code",
   "execution_count": 244,
   "metadata": {},
   "outputs": [
    {
     "name": "stdout",
     "output_type": "stream",
     "text": [
      "Pontuações de validação cruzada: [0.9048833  0.90452883 0.90456851 0.90491595 0.90458729]\n"
     ]
    }
   ],
   "source": [
    "#Random Forests (RF)\n",
    "\n",
    "# Carregando os dados\n",
    "dados_acidentes_encoded = dados_acidentes_total[['Side','State','Temperature(F)','Humidity(%)',\n",
    "                            'Wind_Speed(mph)','Traffic_Signal','Sunrise_Sunset',\n",
    "                            'Total_veh']] # características\n",
    "dados_acidentes_encoded = pd.get_dummies(dados_acidentes_encoded, columns=['Side','State','Traffic_Signal','Sunrise_Sunset'])\n",
    "X = dados_acidentes_encoded\n",
    "y = dados_acidentes_total['Severity'] # rótulos\n",
    "\n",
    "# Dividindo os dados em conjuntos de treinamento e teste\n",
    "X_train, X_test, y_train, y_test = train_test_split(X, y, test_size=0.2)\n",
    "\n",
    "# Criando o modelo Random Forests\n",
    "rf_1 = RandomForestClassifier(n_estimators=50)\n",
    "\n",
    "# Calculando as pontuações de validação cruzada\n",
    "scores_rf_1 = cross_val_score(rf_1, X_train, y_train, cv=5)\n",
    "print(f'Pontuações de validação cruzada: {scores_rf_1}')"
   ]
  },
  {
   "cell_type": "code",
   "execution_count": 245,
   "metadata": {},
   "outputs": [
    {
     "name": "stdout",
     "output_type": "stream",
     "text": [
      "Melhores hiperparâmetros: {'max_depth': None, 'min_samples_leaf': 2, 'min_samples_split': 10, 'n_estimators': 100}\n"
     ]
    }
   ],
   "source": [
    "# Definindo os valores dos hiperparâmetros a serem testados\n",
    "param_grid = {\n",
    "    'n_estimators': [50, 100],\n",
    "    'max_depth': [None, 5], #20, 25],\n",
    "    'min_samples_split': [5, 10],\n",
    "    'min_samples_leaf': [2, 4]\n",
    "}\n",
    "\n",
    "# Criando o objeto GridSearchCV\n",
    "grid_search_rf_1 = GridSearchCV(estimator=rf_1, param_grid=param_grid)\n",
    "\n",
    "# Ajuste do GridSearchCV aos dados de treinamento\n",
    "grid_search_rf_1.fit(X_train, y_train)\n",
    "\n",
    "# Melhores hiperparâmetros encontrados\n",
    "print(f'Melhores hiperparâmetros: {grid_search_rf_1.best_params_}')"
   ]
  },
  {
   "cell_type": "code",
   "execution_count": 246,
   "metadata": {},
   "outputs": [
    {
     "name": "stdout",
     "output_type": "stream",
     "text": [
      "Acurácia modelo Random Forests (RF_1): 0.9103604474935068\n"
     ]
    }
   ],
   "source": [
    "# Criando um novo modelo Random Forests com os melhores hiperparâmetros encontrados\n",
    "best_rf_1 = RandomForestClassifier(**grid_search_rf_1.best_params_)\n",
    "\n",
    "# Treinando o novo modelo com os dados de treinamento\n",
    "best_rf_1.fit(X_train, y_train)\n",
    "\n",
    "# Previsões com os dados de teste\n",
    "y_pred = best_rf_1.predict(X_test)\n",
    "\n",
    "# Cálculo da acurácia do modelo\n",
    "accuracy_rf_1 = accuracy_score(y_test, y_pred)\n",
    "print(f'Acurácia modelo Random Forests (RF_1): {accuracy_rf_1}')"
   ]
  },
  {
   "cell_type": "code",
   "execution_count": 247,
   "metadata": {},
   "outputs": [
    {
     "data": {
      "text/plain": [
       "array([[  1464,   3534,    121,     10],\n",
       "       [   329, 471764,   3755,   1604],\n",
       "       [    69,  18924,   7567,    813],\n",
       "       [    60,  17124,   1388,   3951]], dtype=int64)"
      ]
     },
     "execution_count": 247,
     "metadata": {},
     "output_type": "execute_result"
    },
    {
     "data": {
      "image/png": "[encoded data removed]",
      "text/plain": [
       "<Figure size 640x480 with 2 Axes>"
      ]
     },
     "metadata": {},
     "output_type": "display_data"
    }
   ],
   "source": [
    "# Matriz de confusão\n",
    "conf_mat_rf_1 = confusion_matrix(y_test, y_pred)\n",
    "\n",
    "# Visualizando a matriz de confusão usando Seaborn\n",
    "sns.heatmap(conf_mat_rf_1, annot=True)\n",
    "\n",
    "conf_mat_rf_1"
   ]
  },
  {
   "cell_type": "code",
   "execution_count": 248,
   "metadata": {},
   "outputs": [],
   "source": [
    "# Escolha de uma árvore do modelo Random Forests\n",
    "estimator = best_rf_1.estimators_[0]\n",
    "\n",
    "# Exportando a árvore em formato DOT\n",
    "dot_data = export_graphviz(estimator, out_file=None)\n",
    "\n",
    "# Gerando a imagem da árvore usando o Graphviz\n",
    "graph = graphviz.Source(dot_data)\n",
    "graph.render(\"tree\")\n",
    "\n",
    "# Demorando mais de 10h com os dados completos"
   ]
  },
  {
   "attachments": {},
   "cell_type": "markdown",
   "metadata": {},
   "source": [
    "Os hiperparâmetros são parâmetros do modelo que não são aprendidos a partir dos dados, mas são definidos pelo usuário antes do treinamento do modelo. Eles controlam vários aspectos do modelo e podem ter um impacto significativo no desempenho do modelo.\n",
    "\n",
    "Aqui está o que cada um dos hiperparâmetros do modelo Random Forests significa:\n",
    "\n",
    "n_estimators: O número de árvores na floresta. Quanto maior o número de árvores, mais robusto será o modelo, mas também mais lento para treinar e fazer previsões.\n",
    "\n",
    "max_depth: A profundidade máxima das árvores. Isso controla o quão complexas as árvores podem ser. Valores maiores podem levar a um ajuste excessivo (overfitting) dos dados de treinamento.\n",
    "\n",
    "min_samples_split: O número mínimo de amostras necessárias para dividir um nó interno. Isso controla o quão detalhadas as árvores podem ser. Valores maiores podem levar a árvores mais simples e menos propensas a ajuste excessivo.\n",
    "\n",
    "min_samples_leaf: O número mínimo de amostras necessárias para estar em um nó folha. Isso controla o tamanho das folhas das árvores. Valores maiores podem levar a árvores mais simples e menos propensas a ajuste excessivo.\n",
    "\n",
    "Esses são apenas alguns dos hiperparâmetros disponíveis para o modelo Random Forests. Você pode consultar a documentação do scikit-learn para obter uma lista completa dos hiperparâmetros e suas descrições."
   ]
  },
  {
   "attachments": {},
   "cell_type": "markdown",
   "metadata": {},
   "source": [
    "Modelo Logistic Regression (LR)"
   ]
  },
  {
   "cell_type": "code",
   "execution_count": 57,
   "metadata": {},
   "outputs": [
    {
     "name": "stdout",
     "output_type": "stream",
     "text": [
      "Acurácia: 0.8970378063277851\n"
     ]
    }
   ],
   "source": [
    "#Logistic Regression (LR)\n",
    "\n",
    "# Carregando os dados\n",
    "dados_acidentes_encoded = dados_acidentes_total[['Side','State','Temperature(F)','Humidity(%)',\n",
    "                            'Wind_Speed(mph)','Traffic_Signal','Sunrise_Sunset',\n",
    "                            'Total_veh']] # características\n",
    "dados_acidentes_encoded = pd.get_dummies(dados_acidentes_encoded, columns=['Side','State','Traffic_Signal','Sunrise_Sunset'])\n",
    "X = dados_acidentes_encoded\n",
    "y = dados_acidentes_total['Severity'] # rótulos\n",
    "\n",
    "# Dividindo os dados em conjuntos de treinamento e teste\n",
    "X_train, X_test, y_train, y_test = train_test_split(X, y, test_size=0.2)\n",
    "\n",
    "# Criando o modelo Logistic Regression\n",
    "lr_1 = LogisticRegression()\n",
    "\n",
    "# Treinando o modelo com os dados de treinamento\n",
    "lr_1.fit(X_train, y_train)\n",
    "\n",
    "# Fazendo previsões com os dados de teste\n",
    "y_pred = lr_1.predict(X_test)\n",
    "\n",
    "# Calculando a acurácia do modelo\n",
    "accuracy_lr_1 = accuracy_score(y_test, y_pred)\n",
    "print(f'Acurácia: {accuracy_lr_1}')"
   ]
  },
  {
   "cell_type": "code",
   "execution_count": 60,
   "metadata": {},
   "outputs": [
    {
     "name": "stdout",
     "output_type": "stream",
     "text": [
      "Acurácia: 0.8970378063277851\n"
     ]
    }
   ],
   "source": [
    "# Definindo os hiperparâmetros a serem ajustados\n",
    "param_grid = {'C': [0.1, 1, 10], \n",
    "              'penalty': ['l2']\n",
    "              }\n",
    "\n",
    "# Criando o objeto GridSearchCV\n",
    "grid_search_lr_1 = GridSearchCV(lr_1, param_grid, error_score='raise')\n",
    "\n",
    "# Treinando o modelo com os dados de treinamento e ajuste os hiperparâmetros\n",
    "grid_search_lr_1.fit(X_train, y_train)\n",
    "\n",
    "# Fazendo previsões com os dados de teste\n",
    "y_pred = grid_search_lr_1.predict(X_test)\n",
    "\n",
    "# Calculando a acurácia do modelo\n",
    "accuracy_lr_1 = accuracy_score(y_test, y_pred)\n",
    "print(f'Acurácia: {accuracy_lr_1}')"
   ]
  },
  {
   "cell_type": "code",
   "execution_count": 61,
   "metadata": {},
   "outputs": [
    {
     "name": "stdout",
     "output_type": "stream",
     "text": [
      "Pontuações de validação cruzada: [0.89703968 0.89704156 0.89704156 0.89704156 0.89704137]\n"
     ]
    }
   ],
   "source": [
    "# Calculando a pontuação de validação cruzada com 5 divisões\n",
    "scores_lr_1 = cross_val_score(lr_1, X, y, cv=5)\n",
    "\n",
    "# Imprimindo as pontuações de validação cruzada\n",
    "print(f'Pontuações de validação cruzada: {scores_lr_1}')"
   ]
  },
  {
   "cell_type": "code",
   "execution_count": 62,
   "metadata": {},
   "outputs": [
    {
     "name": "stdout",
     "output_type": "stream",
     "text": [
      "Matriz de confusão: \n",
      "[[     0   5090      0      0]\n",
      " [     0 477652      0      0]\n",
      " [     0  27338      0      0]\n",
      " [     0  22397      0      0]]\n"
     ]
    },
    {
     "data": {
      "image/png": "[encoded data removed]",
      "text/plain": [
       "<Figure size 640x480 with 2 Axes>"
      ]
     },
     "metadata": {},
     "output_type": "display_data"
    }
   ],
   "source": [
    "# Matriz de confusão\n",
    "confusion_mtx = confusion_matrix(y_test, y_pred)\n",
    "print(f'Matriz de confusão: \\n{confusion_mtx}')\n",
    "\n",
    "# Visualizando a matriz de confusão\n",
    "sns.heatmap(confusion_mtx, annot=True)\n",
    "plt.show()"
   ]
  },
  {
   "cell_type": "code",
   "execution_count": 63,
   "metadata": {},
   "outputs": [
    {
     "name": "stdout",
     "output_type": "stream",
     "text": [
      "Acurácia: 0.8977721103446722\n"
     ]
    }
   ],
   "source": [
    "# Carregando os dados\n",
    "dados_acidentes_encoded = dados_acidentes_total[['Side','State','Temperature(F)','Humidity(%)',\n",
    "                            'Wind_Speed(mph)','Traffic_Signal','Sunrise_Sunset',\n",
    "                            'Total_veh']] # características\n",
    "dados_acidentes_encoded = pd.get_dummies(dados_acidentes_encoded, columns=['Side','State','Traffic_Signal','Sunrise_Sunset'])\n",
    "X = dados_acidentes_encoded\n",
    "y = dados_acidentes_total['Severity'] # rótulos\n",
    "\n",
    "# Dividindo os dados em conjuntos de treinamento e teste\n",
    "X_train, X_test, y_train, y_test = train_test_split(X, y, test_size=0.2)\n",
    "\n",
    "# Criando o modelo Naive Bayes\n",
    "nb_1 = GaussianNB()\n",
    "\n",
    "# Treinando o modelo com os dados de treinamento\n",
    "nb_1.fit(X_train, y_train)\n",
    "\n",
    "# Fazendo previsões com os dados de teste\n",
    "y_pred = nb_1.predict(X_test)\n",
    "\n",
    "# Calculando a acurácia do modelo\n",
    "accuracy_nb_1 = accuracy_score(y_test, y_pred)\n",
    "print(f'Acurácia: {accuracy_nb_1}')\n",
    "\n",
    "# Este código carrega um conjunto de dados com características X e rótulos y, divide os dados em conjuntos de treinamento e teste e cria um modelo Naive Bayes. \n",
    "# O modelo é então treinado com os dados de treinamento e usado para fazer previsões com os dados de teste. \n",
    "# Finalmente, a acurácia do modelo é calculada comparando as previsões com os rótulos verdadeiros."
   ]
  },
  {
   "cell_type": "code",
   "execution_count": 68,
   "metadata": {},
   "outputs": [],
   "source": [
    "#Naive Bayes (NB)\n",
    "\n",
    "# Carregando os dados\n",
    "dados_acidentes_encoded = dados_acidentes_total[['Side','State','Temperature(F)','Humidity(%)','Pressure(in)',\n",
    "                            'Visibility(mi)','Wind_Speed(mph)','Traffic_Signal','Sunrise_Sunset',\n",
    "                            'Duracao(min)','Total_veh']] # características\n",
    "dados_acidentes_encoded = pd.get_dummies(dados_acidentes_encoded, columns=['Side','State','Traffic_Signal','Sunrise_Sunset'])\n",
    "X = dados_acidentes_encoded\n",
    "y = dados_acidentes_total['Severity'] # rótulos\n",
    "\n",
    "# Dividindo os dados em conjuntos de treinamento e teste\n",
    "X_train, X_test, y_train, y_test = train_test_split(X, y, test_size=0.2)\n",
    "\n",
    "# Criando o modelo Naive Bayes\n",
    "nb_1 = GaussianNB()"
   ]
  },
  {
   "cell_type": "code",
   "execution_count": 69,
   "metadata": {},
   "outputs": [
    {
     "name": "stdout",
     "output_type": "stream",
     "text": [
      "Melhores hiperparâmetros: {'var_smoothing': 1e-07}\n"
     ]
    }
   ],
   "source": [
    "# Definindo os hiperparâmetros que deseja ajustar e seus valores possíveis\n",
    "param_grid = {'var_smoothing': [1e-9, 1e-8, 1e-7]}\n",
    "\n",
    "# Criando o objeto GridSearchCV com o modelo e os hiperparâmetros\n",
    "grid_search_nb_1 = GridSearchCV(nb_1, param_grid=param_grid, cv=5)\n",
    "\n",
    "# Treinando o modelo com os dados de treinamento e ajuste os hiperparâmetros usando validação cruzada\n",
    "grid_search_nb_1.fit(X_train, y_train)\n",
    "\n",
    "# Melhores hiperparâmetros encontrados pelo GridSearchCV\n",
    "print(f'Melhores hiperparâmetros: {grid_search_nb_1.best_params_}')"
   ]
  },
  {
   "cell_type": "code",
   "execution_count": 75,
   "metadata": {},
   "outputs": [
    {
     "name": "stdout",
     "output_type": "stream",
     "text": [
      "Acurácia: 0.89688568708132\n"
     ]
    },
    {
     "data": {
      "image/png": "[encoded data removed]",
      "text/plain": [
       "<Figure size 640x480 with 2 Axes>"
      ]
     },
     "metadata": {},
     "output_type": "display_data"
    },
    {
     "data": {
      "text/plain": [
       "array([[     0,   5203,      0,      1],\n",
       "       [     0, 477509,      0,    224],\n",
       "       [     0,  27144,      0,      1],\n",
       "       [     0,  22333,      0,     62]], dtype=int64)"
      ]
     },
     "execution_count": 75,
     "metadata": {},
     "output_type": "execute_result"
    }
   ],
   "source": [
    "# Fazendo previsões com os dados de teste usando o melhor modelo encontrado pelo GridSearchCV\n",
    "y_pred = grid_search_nb_1.predict(X_test)\n",
    "\n",
    "# Calculando a acurácia do modelo\n",
    "accuracy_nb_1 = accuracy_score(y_test, y_pred)\n",
    "print(f'Acurácia: {accuracy_nb_1}')\n",
    "\n",
    "# Calculando a matriz de confusão\n",
    "confusion_mat_nb_1 = confusion_matrix(y_test, y_pred)\n",
    "\n",
    "\n",
    "# Visualizando a matriz de confusão usando um heatmap do seaborn\n",
    "sns.heatmap(confusion_mat_nb_1, annot=True)\n",
    "plt.show()\n",
    "\n",
    "confusion_mat_nb_1"
   ]
  },
  {
   "cell_type": "code",
   "execution_count": 78,
   "metadata": {},
   "outputs": [
    {
     "name": "stdout",
     "output_type": "stream",
     "text": [
      "2    715032\n",
      "3     15952\n",
      "4      7355\n",
      "1      4928\n",
      "Name: Severity, dtype: int64\n",
      "1    715032\n",
      "2    715032\n",
      "3    715032\n",
      "4    715032\n",
      "Name: Severity, dtype: int64\n"
     ]
    }
   ],
   "source": [
    "# Repetindo o código para trabalhar com dados balanceados do estado da Califórnia\n",
    "# Balanceando os dados de acidentes\n",
    "\n",
    "# Dados de acidentes da Califórnia\n",
    "dados_acidentes_total_CA = dados_acidentes_total.loc[dados_acidentes_total['State']=='CA']\n",
    "\n",
    "# Contando o número de amostras de cada categoria\n",
    "counts = dados_acidentes_total_CA['Severity'].value_counts()\n",
    "\n",
    "# Verificar o desbalanceamento\n",
    "print(counts)\n",
    "\n",
    "# Definindo a categoria com o menor número de amostras\n",
    "categoria_menor = counts.idxmin()\n",
    "\n",
    "# Realizando o balanceamento\n",
    "dados_balanceados = pd.DataFrame()\n",
    "dados_categoria_balanceados = pd.DataFrame()\n",
    "for categoria in counts.index:\n",
    "    dados_categoria = dados_acidentes_total_CA[dados_acidentes_total_CA['Severity'] == categoria]\n",
    "    if categoria == categoria_menor:\n",
    "        dados_categoria_balanceados = resample(dados_categoria, replace=True, n_samples=counts.max(), random_state=42)\n",
    "    else:\n",
    "        dados_categoria_balanceados = resample(dados_categoria, replace=True, n_samples=counts.max(), random_state=42)\n",
    "    dados_balanceados = pd.concat([dados_balanceados, dados_categoria_balanceados])\n",
    "\n",
    "#Dados balanceados\n",
    "print(dados_balanceados['Severity'].value_counts())"
   ]
  },
  {
   "attachments": {},
   "cell_type": "markdown",
   "metadata": {},
   "source": [
    "### Random Forest (RF)"
   ]
  },
  {
   "cell_type": "code",
   "execution_count": 79,
   "metadata": {},
   "outputs": [
    {
     "name": "stdout",
     "output_type": "stream",
     "text": [
      "Pontuações de validação cruzada: [0.93990005 0.93999401 0.9392072  0.93940606 0.93949784]\n"
     ]
    }
   ],
   "source": [
    "#Random Forests (RF)\n",
    "\n",
    "# Carregando os dados\n",
    "dados_acidentes_encoded = dados_balanceados[['Side','State','Temperature(F)','Humidity(%)',\n",
    "                            'Wind_Speed(mph)','Traffic_Signal','Sunrise_Sunset',\n",
    "                            'Total_veh']] # características\n",
    "dados_acidentes_encoded = pd.get_dummies(dados_acidentes_encoded, columns=['Side','State','Traffic_Signal','Sunrise_Sunset'])\n",
    "X = dados_acidentes_encoded\n",
    "y = dados_balanceados['Severity'] # rótulos\n",
    "\n",
    "# Dividindo os dados em conjuntos de treinamento e teste\n",
    "X_train, X_test, y_train, y_test = train_test_split(X, y, test_size=0.2)\n",
    "\n",
    "# Criando o modelo Random Forests\n",
    "rf_2 = RandomForestClassifier(n_estimators=50)\n",
    "\n",
    "# Calculando as pontuações de validação cruzada\n",
    "scores_rf_2 = cross_val_score(rf_2, X_train, y_train, cv=5)\n",
    "print(f'Pontuações de validação cruzada: {scores_rf_2}')"
   ]
  },
  {
   "cell_type": "code",
   "execution_count": 80,
   "metadata": {},
   "outputs": [
    {
     "name": "stdout",
     "output_type": "stream",
     "text": [
      "Melhores hiperparâmetros: {'max_depth': None, 'min_samples_leaf': 2, 'min_samples_split': 5, 'n_estimators': 100}\n"
     ]
    }
   ],
   "source": [
    "# Definindo os valores dos hiperparâmetros a serem testados\n",
    "param_grid = {\n",
    "    'n_estimators': [50, 100],\n",
    "    'max_depth': [None, 5], #20, 25],\n",
    "    'min_samples_split': [5, 10],\n",
    "    'min_samples_leaf': [2, 4]\n",
    "}\n",
    "\n",
    "# Criando o objeto GridSearchCV\n",
    "grid_search_rf_2 = GridSearchCV(estimator=rf_2, param_grid=param_grid)\n",
    "\n",
    "# Ajustando o GridSearchCV aos dados de treinamento\n",
    "grid_search_rf_2.fit(X_train, y_train)\n",
    "\n",
    "# Melhores hiperparâmetros encontrados\n",
    "print(f'Melhores hiperparâmetros: {grid_search_rf_2.best_params_}')"
   ]
  },
  {
   "cell_type": "code",
   "execution_count": 81,
   "metadata": {},
   "outputs": [
    {
     "name": "stdout",
     "output_type": "stream",
     "text": [
      "Acurácia modelo Random Forests (RF_1): 0.9378297489974232\n"
     ]
    }
   ],
   "source": [
    "# Criando um novo modelo Random Forests com os melhores hiperparâmetros encontrados\n",
    "best_rf_2 = RandomForestClassifier(**grid_search_rf_2.best_params_)\n",
    "\n",
    "# Treinando o novo modelo com os dados de treinamento\n",
    "best_rf_2.fit(X_train, y_train)\n",
    "\n",
    "# Fazendo previsões com os dados de teste\n",
    "y_pred = best_rf_2.predict(X_test)\n",
    "\n",
    "# Calculando a acurácia do modelo\n",
    "accuracy_rf_2 = accuracy_score(y_test, y_pred)\n",
    "print(f'Acurácia modelo Random Forests (RF_1): {accuracy_rf_2}')"
   ]
  },
  {
   "cell_type": "code",
   "execution_count": 82,
   "metadata": {},
   "outputs": [
    {
     "data": {
      "text/plain": [
       "array([[141968,     25,    420,    711],\n",
       "       [  4251, 124754,   7399,   6063],\n",
       "       [  4415,    333, 132519,   6152],\n",
       "       [  3525,    810,   1459, 137222]], dtype=int64)"
      ]
     },
     "execution_count": 82,
     "metadata": {},
     "output_type": "execute_result"
    },
    {
     "data": {
      "image/png": "[encoded data removed]",
      "text/plain": [
       "<Figure size 640x480 with 2 Axes>"
      ]
     },
     "metadata": {},
     "output_type": "display_data"
    }
   ],
   "source": [
    "# Matriz de confusão\n",
    "conf_mat_rf_2 = confusion_matrix(y_test, y_pred)\n",
    "\n",
    "# Visualizando a matriz de confusão usando Seaborn\n",
    "sns.heatmap(conf_mat_rf_2, annot=True)\n",
    "\n",
    "conf_mat_rf_2"
   ]
  },
  {
   "cell_type": "code",
   "execution_count": null,
   "metadata": {},
   "outputs": [],
   "source": [
    "# Escolhendo uma árvore do modelo Random Forests\n",
    "estimator = best_rf_2.estimators_[0]\n",
    "\n",
    "# Exportando a árvore em formato DOT\n",
    "dot_data_2 = export_graphviz(estimator, out_file=None)\n",
    "\n",
    "# Gerando a imagem da árvore usando o Graphviz\n",
    "graph = graphviz.Source(dot_data_2)\n",
    "graph.render(\"tree\")"
   ]
  },
  {
   "attachments": {},
   "cell_type": "markdown",
   "metadata": {},
   "source": [
    "### Logistic Regression (LR)"
   ]
  },
  {
   "cell_type": "code",
   "execution_count": 74,
   "metadata": {},
   "outputs": [
    {
     "name": "stdout",
     "output_type": "stream",
     "text": [
      "Acurácia: 0.2507123802064941\n"
     ]
    }
   ],
   "source": [
    "#Logistic Regression (LR)\n",
    "\n",
    "# Carregando os dados\n",
    "dados_acidentes_encoded = dados_balanceados[['Side','State','Temperature(F)','Humidity(%)',\n",
    "                            'Wind_Speed(mph)','Traffic_Signal','Sunrise_Sunset','Total_veh']] # características\n",
    "dados_acidentes_encoded = pd.get_dummies(dados_acidentes_encoded, columns=['Side','State','Traffic_Signal','Sunrise_Sunset'])\n",
    "X = dados_acidentes_encoded\n",
    "y = dados_balanceados['Severity'] # rótulos\n",
    "\n",
    "# Dividindo os dados em conjuntos de treinamento e teste\n",
    "X_train, X_test, y_train, y_test = train_test_split(X, y, test_size=0.2)\n",
    "\n",
    "# Criando o modelo Logistic Regression\n",
    "lr_2 = LogisticRegression()\n",
    "\n",
    "# Treinando o modelo com os dados de treinamento\n",
    "lr_2.fit(X_train, y_train)\n",
    "\n",
    "# Fazendo previsões com os dados de teste\n",
    "y_pred = lr_2.predict(X_test)\n",
    "\n",
    "# Calculando a acurácia do modelo\n",
    "accuracy_lr_2 = accuracy_score(y_test, y_pred)\n",
    "print(f'Acurácia: {accuracy_lr_2}')"
   ]
  },
  {
   "cell_type": "code",
   "execution_count": 75,
   "metadata": {},
   "outputs": [
    {
     "name": "stdout",
     "output_type": "stream",
     "text": [
      "Acurácia: 0.2507123802064941\n"
     ]
    }
   ],
   "source": [
    "# Definindo os hiperparâmetros a serem ajustados\n",
    "param_grid = {'C': [10], \n",
    "              'penalty': ['l2'],\n",
    "              'class_weight':['balanced'],\n",
    "              'fit_intercept':[False]\n",
    "              }\n",
    "\n",
    "# Criando o objeto GridSearchCV\n",
    "grid_search_lr_2 = GridSearchCV(lr_2, param_grid, error_score='raise')\n",
    "\n",
    "# Treinando o modelo com os dados de treinamento e ajuste os hiperparâmetros\n",
    "grid_search_lr_2.fit(X_train, y_train)\n",
    "\n",
    "# Fazendo previsões com os dados de teste\n",
    "y_pred = grid_search_lr_2.predict(X_test)\n",
    "\n",
    "# Calculando a acurácia do modelo\n",
    "accuracy_lr_2 = accuracy_score(y_test, y_pred)\n",
    "print(f'Acurácia: {accuracy_lr_2}')"
   ]
  },
  {
   "cell_type": "code",
   "execution_count": 76,
   "metadata": {},
   "outputs": [
    {
     "name": "stdout",
     "output_type": "stream",
     "text": [
      "Pontuações de validação cruzada: [0.25000087 0.25000087 0.24999913 0.24999956 0.24999956]\n"
     ]
    }
   ],
   "source": [
    "# Calculando a pontuação de validação cruzada com 5 divisões\n",
    "scores_lr_2 = cross_val_score(lr_2, X, y, cv=5)\n",
    "\n",
    "# Imprimindo as pontuações de validação cruzada\n",
    "print(f'Pontuações de validação cruzada: {scores_lr_2}')"
   ]
  },
  {
   "cell_type": "code",
   "execution_count": 77,
   "metadata": {},
   "outputs": [
    {
     "name": "stdout",
     "output_type": "stream",
     "text": [
      "Matriz de confusão: \n",
      "[[     0 142965      0      0]\n",
      " [     0 143414      0      0]\n",
      " [     0 142860      0      0]\n",
      " [     0 142787      0      0]]\n"
     ]
    },
    {
     "data": {
      "image/png": "[encoded data removed]",
      "text/plain": [
       "<Figure size 640x480 with 2 Axes>"
      ]
     },
     "metadata": {},
     "output_type": "display_data"
    }
   ],
   "source": [
    "# Calculando a matriz de confusão\n",
    "confusion_mtx_lr_2 = confusion_matrix(y_test, y_pred)\n",
    "print(f'Matriz de confusão: \\n{confusion_mtx_lr_2}')\n",
    "\n",
    "# Visualizando a matriz de confusão\n",
    "sns.heatmap(confusion_mtx_lr_2, annot=True)\n",
    "plt.show()"
   ]
  },
  {
   "attachments": {},
   "cell_type": "markdown",
   "metadata": {},
   "source": [
    "### Naive Bayes (NB)"
   ]
  },
  {
   "cell_type": "code",
   "execution_count": 69,
   "metadata": {},
   "outputs": [],
   "source": [
    "#Naive Bayes (NB)\n",
    "\n",
    "# Carregando os dados\n",
    "dados_acidentes_encoded = dados_balanceados[['Side','State','Temperature(F)','Humidity(%)','Pressure(in)',\n",
    "                            'Visibility(mi)','Wind_Speed(mph)','Traffic_Signal','Sunrise_Sunset',\n",
    "                            'Duracao(min)','Total_veh']] # características\n",
    "dados_acidentes_encoded = pd.get_dummies(dados_acidentes_encoded, columns=['Side','State','Traffic_Signal','Sunrise_Sunset'])\n",
    "X = dados_acidentes_encoded\n",
    "y = dados_balanceados['Severity'] # rótulos\n",
    "\n",
    "# Dividindo os dados em conjuntos de treinamento e teste\n",
    "kf = KFold(n_splits=5, shuffle=True, random_state=42)\n",
    "for train_index, test_index in kf.split(X):\n",
    "    X_train, X_test = X.iloc[train_index], X.iloc[test_index]\n",
    "    y_train, y_test = y.iloc[train_index], y.iloc[test_index]\n",
    "\n",
    "# Criando o modelo Naive Bayes\n",
    "nb_2 = GaussianNB()"
   ]
  },
  {
   "cell_type": "code",
   "execution_count": 70,
   "metadata": {},
   "outputs": [
    {
     "name": "stdout",
     "output_type": "stream",
     "text": [
      "Melhores hiperparâmetros: {'var_smoothing': 1e-10}\n"
     ]
    }
   ],
   "source": [
    "# Definindo os hiperparâmetros que deseja ajustar e seus valores possíveis\n",
    "param_grid = {'var_smoothing': [1e-15, 1e-10, 1e-9]}\n",
    "\n",
    "# Criando o objeto GridSearchCV com o modelo e os hiperparâmetros\n",
    "grid_search_nb_2 = GridSearchCV(nb_2, param_grid=param_grid, cv=5)\n",
    "\n",
    "# Treinando o modelo com os dados de treinamento e ajuste os hiperparâmetros usando validação cruzada\n",
    "grid_search_nb_2.fit(X_train, y_train)\n",
    "\n",
    "# Imprimindo os melhores hiperparâmetros encontrados pelo GridSearchCV\n",
    "print(f'Melhores hiperparâmetros: {grid_search_nb_2.best_params_}')"
   ]
  },
  {
   "cell_type": "code",
   "execution_count": 71,
   "metadata": {},
   "outputs": [
    {
     "name": "stdout",
     "output_type": "stream",
     "text": [
      "Acurácia: 0.5944582841659019\n"
     ]
    },
    {
     "data": {
      "image/png": "[encoded data removed]",
      "text/plain": [
       "<Figure size 640x480 with 2 Axes>"
      ]
     },
     "metadata": {},
     "output_type": "display_data"
    },
    {
     "data": {
      "text/plain": [
       "array([[142555,    179,      0,      0],\n",
       "       [ 23593,  87861,  31298,    342],\n",
       "       [ 32437,   3063, 107451,     42],\n",
       "       [ 32814,  30002,  78210,   2178]], dtype=int64)"
      ]
     },
     "execution_count": 71,
     "metadata": {},
     "output_type": "execute_result"
    }
   ],
   "source": [
    "# Fazendo previsões com os dados de teste usando o melhor modelo encontrado pelo GridSearchCV\n",
    "y_pred = grid_search_nb_2.predict(X_test)\n",
    "\n",
    "# Calculando a acurácia do modelo\n",
    "accuracy_nb_2 = accuracy_score(y_test, y_pred)\n",
    "print(f'Acurácia: {accuracy_nb_2}')\n",
    "\n",
    "# Calculando a matriz de confusão\n",
    "confusion_mat_nb_2 = confusion_matrix(y_test, y_pred)\n",
    "\n",
    "# Visualizando a matriz de confusão usando um heatmap do seaborn\n",
    "sns.heatmap(confusion_mat_nb_2, annot=True)\n",
    "plt.show()\n",
    "\n",
    "confusion_mat_nb_2"
   ]
  },
  {
   "attachments": {},
   "cell_type": "markdown",
   "metadata": {},
   "source": [
    "## DataSet das informações por localização (WebScrapping)"
   ]
  },
  {
   "cell_type": "code",
   "execution_count": null,
   "metadata": {},
   "outputs": [],
   "source": [
    "locations = [\n",
    "    {'latitude': 40.100006, 'longitude': -83.1, 'datahora': '2016-02-08T08:00'},\n",
    "    {'latitude': 39.9612, 'longitude': -82.9988, 'datahora': '2016-02-08T09:00'},\n",
    "    {'latitude': 41.8781, 'longitude': -87.6298, 'datahora': '2016-02-08T10:00'}]\n",
    "data = {\n",
    "    'latitude': [loc['latitude'] for loc in locations],\n",
    "    'longitude': [loc['longitude'] for loc in locations],\n",
    "    'datahora': [loc['datahora'] for loc in locations],\n",
    "    'temperatura': []}"
   ]
  },
  {
   "cell_type": "code",
   "execution_count": null,
   "metadata": {},
   "outputs": [],
   "source": [
    "df_request = pd.DataFrame()\n",
    "df_request[\"Latitude\"] = df[\"Start_Lat\"]\n",
    "df_request[\"Longitude\"] = df[\"Start_Lng\"]\n",
    "df_request[\"Time\"] = pd.to_datetime(df[\"Start_Time\"]).dt.strftime(\"%Y-%m-%d\")"
   ]
  },
  {
   "cell_type": "code",
   "execution_count": null,
   "metadata": {},
   "outputs": [
    {
     "data": {
      "text/plain": [
       "2845342"
      ]
     },
     "execution_count": 211,
     "metadata": {},
     "output_type": "execute_result"
    }
   ],
   "source": [
    "len(df_request)"
   ]
  },
  {
   "cell_type": "code",
   "execution_count": null,
   "metadata": {},
   "outputs": [
    {
     "data": {
      "text/html": [
       "<div>\n",
       "<style scoped>\n",
       "    .dataframe tbody tr th:only-of-type {\n",
       "        vertical-align: middle;\n",
       "    }\n",
       "\n",
       "    .dataframe tbody tr th {\n",
       "        vertical-align: top;\n",
       "    }\n",
       "\n",
       "    .dataframe thead th {\n",
       "        text-align: right;\n",
       "    }\n",
       "</style>\n",
       "<table border=\"1\" class=\"dataframe\">\n",
       "  <thead>\n",
       "    <tr style=\"text-align: right;\">\n",
       "      <th></th>\n",
       "      <th>Latitude</th>\n",
       "      <th>Longitude</th>\n",
       "      <th>Time</th>\n",
       "    </tr>\n",
       "  </thead>\n",
       "  <tbody>\n",
       "    <tr>\n",
       "      <th>0</th>\n",
       "      <td>40.108910</td>\n",
       "      <td>-83.092860</td>\n",
       "      <td>2016-02-08</td>\n",
       "    </tr>\n",
       "    <tr>\n",
       "      <th>1</th>\n",
       "      <td>39.865420</td>\n",
       "      <td>-84.062800</td>\n",
       "      <td>2016-02-08</td>\n",
       "    </tr>\n",
       "    <tr>\n",
       "      <th>2</th>\n",
       "      <td>39.102660</td>\n",
       "      <td>-84.524680</td>\n",
       "      <td>2016-02-08</td>\n",
       "    </tr>\n",
       "    <tr>\n",
       "      <th>3</th>\n",
       "      <td>41.062130</td>\n",
       "      <td>-81.537840</td>\n",
       "      <td>2016-02-08</td>\n",
       "    </tr>\n",
       "    <tr>\n",
       "      <th>4</th>\n",
       "      <td>39.172393</td>\n",
       "      <td>-84.492792</td>\n",
       "      <td>2016-02-08</td>\n",
       "    </tr>\n",
       "  </tbody>\n",
       "</table>\n",
       "</div>"
      ],
      "text/plain": [
       "    Latitude  Longitude        Time\n",
       "0  40.108910 -83.092860  2016-02-08\n",
       "1  39.865420 -84.062800  2016-02-08\n",
       "2  39.102660 -84.524680  2016-02-08\n",
       "3  41.062130 -81.537840  2016-02-08\n",
       "4  39.172393 -84.492792  2016-02-08"
      ]
     },
     "execution_count": 214,
     "metadata": {},
     "output_type": "execute_result"
    }
   ],
   "source": [
    "df_request.head()"
   ]
  },
  {
   "cell_type": "code",
   "execution_count": null,
   "metadata": {},
   "outputs": [],
   "source": [
    "df_request = df_request.drop_duplicates()"
   ]
  },
  {
   "cell_type": "code",
   "execution_count": null,
   "metadata": {},
   "outputs": [
    {
     "data": {
      "text/plain": [
       "2437913"
      ]
     },
     "execution_count": 216,
     "metadata": {},
     "output_type": "execute_result"
    }
   ],
   "source": [
    "len(df_request)"
   ]
  },
  {
   "cell_type": "code",
   "execution_count": null,
   "metadata": {},
   "outputs": [
    {
     "data": {
      "text/html": [
       "<div>\n",
       "<style scoped>\n",
       "    .dataframe tbody tr th:only-of-type {\n",
       "        vertical-align: middle;\n",
       "    }\n",
       "\n",
       "    .dataframe tbody tr th {\n",
       "        vertical-align: top;\n",
       "    }\n",
       "\n",
       "    .dataframe thead th {\n",
       "        text-align: right;\n",
       "    }\n",
       "</style>\n",
       "<table border=\"1\" class=\"dataframe\">\n",
       "  <thead>\n",
       "    <tr style=\"text-align: right;\">\n",
       "      <th></th>\n",
       "      <th>Latitude</th>\n",
       "      <th>Longitude</th>\n",
       "      <th>Time</th>\n",
       "    </tr>\n",
       "  </thead>\n",
       "  <tbody>\n",
       "    <tr>\n",
       "      <th>0</th>\n",
       "      <td>40.10891</td>\n",
       "      <td>-83.09286</td>\n",
       "      <td>2016-02-08</td>\n",
       "    </tr>\n",
       "    <tr>\n",
       "      <th>1</th>\n",
       "      <td>39.86542</td>\n",
       "      <td>-84.06280</td>\n",
       "      <td>2016-02-08</td>\n",
       "    </tr>\n",
       "    <tr>\n",
       "      <th>2</th>\n",
       "      <td>39.10266</td>\n",
       "      <td>-84.52468</td>\n",
       "      <td>2016-02-08</td>\n",
       "    </tr>\n",
       "  </tbody>\n",
       "</table>\n",
       "</div>"
      ],
      "text/plain": [
       "   Latitude  Longitude        Time\n",
       "0  40.10891  -83.09286  2016-02-08\n",
       "1  39.86542  -84.06280  2016-02-08\n",
       "2  39.10266  -84.52468  2016-02-08"
      ]
     },
     "execution_count": 220,
     "metadata": {},
     "output_type": "execute_result"
    }
   ],
   "source": [
    "df_request.head(3)"
   ]
  },
  {
   "cell_type": "code",
   "execution_count": null,
   "metadata": {},
   "outputs": [
    {
     "data": {
      "text/plain": [
       "{'latitude': 40.100006,\n",
       " 'longitude': -83.1,\n",
       " 'generationtime_ms': 0.6209611892700195,\n",
       " 'utc_offset_seconds': 0,\n",
       " 'timezone': 'GMT',\n",
       " 'timezone_abbreviation': 'GMT',\n",
       " 'elevation': 270.0,\n",
       " 'hourly_units': {'time': 'iso8601',\n",
       "  'apparent_temperature': '°C',\n",
       "  'precipitation': 'mm'},\n",
       " 'hourly': {'time': ['2016-02-08T00:00',\n",
       "   '2016-02-08T01:00',\n",
       "   '2016-02-08T02:00',\n",
       "   '2016-02-08T03:00',\n",
       "   '2016-02-08T04:00',\n",
       "   '2016-02-08T05:00',\n",
       "   '2016-02-08T06:00',\n",
       "   '2016-02-08T07:00',\n",
       "   '2016-02-08T08:00',\n",
       "   '2016-02-08T09:00',\n",
       "   '2016-02-08T10:00',\n",
       "   '2016-02-08T11:00',\n",
       "   '2016-02-08T12:00',\n",
       "   '2016-02-08T13:00',\n",
       "   '2016-02-08T14:00',\n",
       "   '2016-02-08T15:00',\n",
       "   '2016-02-08T16:00',\n",
       "   '2016-02-08T17:00',\n",
       "   '2016-02-08T18:00',\n",
       "   '2016-02-08T19:00',\n",
       "   '2016-02-08T20:00',\n",
       "   '2016-02-08T21:00',\n",
       "   '2016-02-08T22:00',\n",
       "   '2016-02-08T23:00'],\n",
       "  'apparent_temperature': [3.2,\n",
       "   2.8,\n",
       "   2.0,\n",
       "   1.0,\n",
       "   1.1,\n",
       "   1.1,\n",
       "   1.0,\n",
       "   0.9,\n",
       "   0.2,\n",
       "   -0.3,\n",
       "   -0.5,\n",
       "   -0.5,\n",
       "   -0.6,\n",
       "   -1.0,\n",
       "   -1.3,\n",
       "   -1.2,\n",
       "   -1.1,\n",
       "   -0.2,\n",
       "   -0.1,\n",
       "   -0.5,\n",
       "   -0.9,\n",
       "   -0.5,\n",
       "   -1.2,\n",
       "   -2.1],\n",
       "  'precipitation': [0.0,\n",
       "   0.0,\n",
       "   0.0,\n",
       "   0.0,\n",
       "   0.0,\n",
       "   0.0,\n",
       "   0.1,\n",
       "   0.0,\n",
       "   0.2,\n",
       "   0.4,\n",
       "   0.5,\n",
       "   0.6,\n",
       "   0.7,\n",
       "   1.0,\n",
       "   1.0,\n",
       "   0.8,\n",
       "   0.4,\n",
       "   0.3,\n",
       "   0.6,\n",
       "   0.6,\n",
       "   0.4,\n",
       "   0.4,\n",
       "   0.5,\n",
       "   0.0]}}"
      ]
     },
     "execution_count": 197,
     "metadata": {},
     "output_type": "execute_result"
    }
   ],
   "source": [
    "\n",
    "request = requests.get(f'https://archive-api.open-meteo.com/v1/archive?latitude={}40.108910&longitude=-83.092860&start_date=2016-02-08&end_date=2016-02-08&hourly=apparent_temperature&hourly=precipitation')\n",
    "df_request = request.json()\n",
    "df_request"
   ]
  },
  {
   "cell_type": "code",
   "execution_count": null,
   "metadata": {},
   "outputs": [],
   "source": [
    "# Cria um novo dataframe vazio\n",
    "result_df = pd.DataFrame()\n",
    "\n",
    "# Itera sobre as linhas do dataframe\n",
    "for index, row in df.iterrows():\n",
    "    latitude = row[\"latitude\"]\n",
    "    longitude = row[\"longitude\"]\n",
    "    date = row[\"datetime\"].strftime(\"%Y-%m-%d\") # Converte a data para o formato esperado pela API\n",
    "    url = f'https://archive-api.open-meteo.com/v1/archive?latitude={latitude}&longitude={longitude}&start_date={date}&end_date={date}&hourly=apparent_temperature&hourly=precipitation'\n",
    "    response = requests.get(url)\n",
    "    # Processa a resposta aqui\n",
    "    data = response.json() # Converte a resposta em um dicionário Python\n",
    "    # Extrai os valores desejados do dicionário\n",
    "    temperature = data[\"data\"][0][\"apparent_temperature\"]\n",
    "    precipitation = data[\"data\"][0][\"precipitation\"]\n",
    "    # Cria um novo dicionário com os valores extraídos\n",
    "    result = {\"latitude\": latitude, \"longitude\": longitude, \"date\": date, \"apparent_temperature\": temperature, \"precipitation\": precipitation}\n",
    "    # Adiciona o novo dicionário ao dataframe de resultados\n",
    "    result_df = result_df.append(result, ignore_index=True)"
   ]
  },
  {
   "cell_type": "code",
   "execution_count": null,
   "metadata": {},
   "outputs": [
    {
     "name": "stdout",
     "output_type": "stream",
     "text": [
      "     latitude  longitude              time  apparent_temperature  \\\n",
      "0   40.100006      -83.1  2016-02-08T00:00                   3.2   \n",
      "1   40.100006      -83.1  2016-02-08T01:00                   2.8   \n",
      "2   40.100006      -83.1  2016-02-08T02:00                   2.0   \n",
      "3   40.100006      -83.1  2016-02-08T03:00                   1.0   \n",
      "4   40.100006      -83.1  2016-02-08T04:00                   1.1   \n",
      "5   40.100006      -83.1  2016-02-08T05:00                   1.1   \n",
      "6   40.100006      -83.1  2016-02-08T06:00                   1.0   \n",
      "7   40.100006      -83.1  2016-02-08T07:00                   0.9   \n",
      "8   40.100006      -83.1  2016-02-08T08:00                   0.2   \n",
      "9   40.100006      -83.1  2016-02-08T09:00                  -0.3   \n",
      "10  40.100006      -83.1  2016-02-08T10:00                  -0.5   \n",
      "11  40.100006      -83.1  2016-02-08T11:00                  -0.5   \n",
      "12  40.100006      -83.1  2016-02-08T12:00                  -0.6   \n",
      "13  40.100006      -83.1  2016-02-08T13:00                  -1.0   \n",
      "14  40.100006      -83.1  2016-02-08T14:00                  -1.3   \n",
      "15  40.100006      -83.1  2016-02-08T15:00                  -1.2   \n",
      "16  40.100006      -83.1  2016-02-08T16:00                  -1.1   \n",
      "17  40.100006      -83.1  2016-02-08T17:00                  -0.2   \n",
      "18  40.100006      -83.1  2016-02-08T18:00                  -0.1   \n",
      "19  40.100006      -83.1  2016-02-08T19:00                  -0.5   \n",
      "20  40.100006      -83.1  2016-02-08T20:00                  -0.9   \n",
      "21  40.100006      -83.1  2016-02-08T21:00                  -0.5   \n",
      "22  40.100006      -83.1  2016-02-08T22:00                  -1.2   \n",
      "23  40.100006      -83.1  2016-02-08T23:00                  -2.1   \n",
      "\n",
      "    precipitation  \n",
      "0             0.0  \n",
      "1             0.0  \n",
      "2             0.0  \n",
      "3             0.0  \n",
      "4             0.0  \n",
      "5             0.0  \n",
      "6             0.1  \n",
      "7             0.0  \n",
      "8             0.2  \n",
      "9             0.4  \n",
      "10            0.5  \n",
      "11            0.6  \n",
      "12            0.7  \n",
      "13            1.0  \n",
      "14            1.0  \n",
      "15            0.8  \n",
      "16            0.4  \n",
      "17            0.3  \n",
      "18            0.6  \n",
      "19            0.6  \n",
      "20            0.4  \n",
      "21            0.4  \n",
      "22            0.5  \n",
      "23            0.0  \n"
     ]
    }
   ],
   "source": [
    "# carrega o json como um dicionário\n",
    "# dados_json = '{\"latitude\": 40.100006, \"longitude\": -83.1, \"generationtime_ms\": 0.41496753692626953, \"utc_offset_seconds\": 0, \"timezone\": \"GMT\", \"timezone_abbreviation\": \"GMT\", \"elevation\": 270.0, \"hourly_units\": {\"time\": \"iso8601\", \"apparent_temperature\": \"°C\", \"precipitation\": \"mm\"}, \"hourly\": {\"time\": [\"2016-02-08T00:00\", \"2016-02-08T01:00\"], \"apparent_temperature\": [3.2, 2.8], \"precipitation\": [0.0, 0.0]}}'\n",
    "dados_dict = (df_request)\n",
    "\n",
    "# cria um DataFrame a partir do dicionário\n",
    "df_temp_prec = pd.DataFrame(dados_dict['hourly'])\n",
    "\n",
    "# verifica se os valores de temperatura e precipitação são listas\n",
    "if isinstance(df_temp_prec['time'][0], list):\n",
    "    df_temp_prec['time'] = df_temp_prec['time'].apply(lambda x: x[0])\n",
    "if isinstance(df_temp_prec['apparent_temperature'][0], list):\n",
    "    df_temp_prec['apparent_temperature'] = df_temp_prec['apparent_temperature'].apply(lambda x: x[0])\n",
    "if isinstance(df_temp_prec['precipitation'][0], list):\n",
    "    df_temp_prec['precipitation'] = df_temp_prec['precipitation'].apply(lambda x: x[0])\n",
    "\n",
    "# adiciona as informações do tempo ao DataFrame\n",
    "df_temp_prec['latitude'] = dados_dict['latitude']\n",
    "df_temp_prec['longitude'] = dados_dict['longitude']\n",
    "\n",
    "# reorganiza as colunas do DataFrame\n",
    "df_temp_prec = df_temp_prec[['latitude', 'longitude','time', 'apparent_temperature', 'precipitation']]\n",
    "\n",
    "# exibe o DataFrame resultante\n",
    "print(df_temp_prec)"
   ]
  },
  {
   "cell_type": "code",
   "execution_count": null,
   "metadata": {},
   "outputs": [],
   "source": [
    "data = json.loads(df_request.text)"
   ]
  }
 ],
 "metadata": {
  "kernelspec": {
   "display_name": "Python 3",
   "language": "python",
   "name": "python3"
  },
  "language_info": {
   "codemirror_mode": {
    "name": "ipython",
    "version": 3
   },
   "file_extension": ".py",
   "mimetype": "text/x-python",
   "name": "python",
   "nbconvert_exporter": "python",
   "pygments_lexer": "ipython3",
   "version": "3.11.0"
  },
  "orig_nbformat": 4,
  "vscode": {
   "interpreter": {
    "hash": "30c802e65b44523fa6e12230e816e2b6fa20dbc368188253f9eb5f32dc2eeffd"
   }
  }
 },
 "nbformat": 4,
 "nbformat_minor": 2
}
